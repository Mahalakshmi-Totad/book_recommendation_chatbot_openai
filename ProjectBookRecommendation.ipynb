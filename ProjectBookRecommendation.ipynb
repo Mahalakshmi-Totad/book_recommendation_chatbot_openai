{
 "cells": [
  {
   "cell_type": "markdown",
   "id": "90bb1e2a",
   "metadata": {
    "id": "90bb1e2a"
   },
   "source": [
    "# BookRecommendation AI \n",
    "##### By Mahalakshmi Totad"
   ]
  },
  {
   "cell_type": "markdown",
   "id": "5bf1cc72",
   "metadata": {
    "id": "5bf1cc72",
    "tags": []
   },
   "source": [
    "## Part 1: Project Introduction\n",
    "\n",
    "The two main principles of writing a good prompt:\n",
    "1.  Providing clear instructions,\n",
    "2.  Enhancing LLM reasoning capabilities.\n",
    "\n",
    "Under providing clear instructions, you learnt how to structure the body of a prompt through 5 components - **Task, Role, Context, Guidelines and Output Format**.\n",
    "\n",
    "\n",
    "Let’s now get started on designing our first LLM application - BookRecommendation AI."
   ]
  },
  {
   "cell_type": "markdown",
   "id": "eTECjBM1_t1B",
   "metadata": {
    "id": "eTECjBM1_t1B"
   },
   "source": [
    "\n",
    "#### Project Background\n",
    "\n",
    "Book Recommendation Chatbot can be used to discover exciting books tailored to user preferences and interests. From different geners like thrilling mysteries, heartwarming romances, or thought-provoking non-fiction. **BookRecommendation AI, a chatbot that combines the power of large language models and rule-based functions to ensure relevant recommendations**.\n",
    "\n",
    "\n",
    "#### Problem Statement\n",
    "\n",
    "*Given a dataset containing information about books (book name, author,genere, rating , description), build a chatbot that parses the dataset and provides accurate book recommendations based on user's interest*.\n"
   ]
  },
  {
   "cell_type": "code",
   "execution_count": 1,
   "id": "l7BLDeM5MXrC",
   "metadata": {
    "colab": {
     "base_uri": "https://localhost:8080/"
    },
    "id": "l7BLDeM5MXrC",
    "outputId": "479bb29e-72c4-4bc3-bec2-558f7460c72c"
   },
   "outputs": [],
   "source": [
    "# Install OpenAI library\n",
    "# !pip install -U -q openai tenacity"
   ]
  },
  {
   "cell_type": "code",
   "execution_count": 2,
   "id": "bffadd8b-ce47-4c5b-947c-2eb4a1058df9",
   "metadata": {},
   "outputs": [
    {
     "name": "stdout",
     "output_type": "stream",
     "text": [
      "Requirement already satisfied: openai in /Users/mahalakshmi/anaconda3/lib/python3.10/site-packages (1.30.1)\n",
      "Requirement already satisfied: tqdm>4 in /Users/mahalakshmi/anaconda3/lib/python3.10/site-packages (from openai) (4.64.1)\n",
      "Requirement already satisfied: httpx<1,>=0.23.0 in /Users/mahalakshmi/anaconda3/lib/python3.10/site-packages (from openai) (0.27.0)\n",
      "Requirement already satisfied: distro<2,>=1.7.0 in /Users/mahalakshmi/anaconda3/lib/python3.10/site-packages (from openai) (1.9.0)\n",
      "Requirement already satisfied: anyio<5,>=3.5.0 in /Users/mahalakshmi/anaconda3/lib/python3.10/site-packages (from openai) (3.5.0)\n",
      "Requirement already satisfied: pydantic<3,>=1.9.0 in /Users/mahalakshmi/anaconda3/lib/python3.10/site-packages (from openai) (2.6.2)\n",
      "Requirement already satisfied: typing-extensions<5,>=4.7 in /Users/mahalakshmi/anaconda3/lib/python3.10/site-packages (from openai) (4.9.0)\n",
      "Requirement already satisfied: sniffio in /Users/mahalakshmi/anaconda3/lib/python3.10/site-packages (from openai) (1.2.0)\n",
      "Requirement already satisfied: idna>=2.8 in /Users/mahalakshmi/anaconda3/lib/python3.10/site-packages (from anyio<5,>=3.5.0->openai) (3.4)\n",
      "Requirement already satisfied: certifi in /Users/mahalakshmi/anaconda3/lib/python3.10/site-packages (from httpx<1,>=0.23.0->openai) (2024.2.2)\n",
      "Requirement already satisfied: httpcore==1.* in /Users/mahalakshmi/anaconda3/lib/python3.10/site-packages (from httpx<1,>=0.23.0->openai) (1.0.5)\n",
      "Requirement already satisfied: h11<0.15,>=0.13 in /Users/mahalakshmi/anaconda3/lib/python3.10/site-packages (from httpcore==1.*->httpx<1,>=0.23.0->openai) (0.14.0)\n",
      "Requirement already satisfied: pydantic-core==2.16.3 in /Users/mahalakshmi/anaconda3/lib/python3.10/site-packages (from pydantic<3,>=1.9.0->openai) (2.16.3)\n",
      "Requirement already satisfied: annotated-types>=0.4.0 in /Users/mahalakshmi/anaconda3/lib/python3.10/site-packages (from pydantic<3,>=1.9.0->openai) (0.6.0)\n",
      "^C\n",
      "\u001b[31mERROR: Operation cancelled by user\u001b[0m\u001b[31m\n",
      "\u001b[0mNote: you may need to restart the kernel to use updated packages.\n"
     ]
    }
   ],
   "source": [
    "# pip install openai --upgrade"
   ]
  },
  {
   "cell_type": "code",
   "execution_count": 3,
   "id": "VnAN5gPkCAfl",
   "metadata": {
    "colab": {
     "base_uri": "https://localhost:8080/"
    },
    "id": "VnAN5gPkCAfl",
    "outputId": "702d9b1b-2214-43a1-9fda-e5f5908847d5"
   },
   "outputs": [],
   "source": [
    "# from google.colab import drive\n",
    "# drive.mount('/content/drive')"
   ]
  },
  {
   "cell_type": "code",
   "execution_count": 4,
   "id": "8lncPYPhCCNQ",
   "metadata": {
    "id": "8lncPYPhCCNQ"
   },
   "outputs": [],
   "source": [
    "# import os\n",
    "# # os.chdir('/content/drive/MyDrive/GenAI Revamp - 2024/ShopAssist')\n",
    "# os.chdir('/goodreads_data.csv')\n",
    "# !ls"
   ]
  },
  {
   "cell_type": "code",
   "execution_count": 35,
   "id": "29adca8b",
   "metadata": {
    "colab": {
     "base_uri": "https://localhost:8080/",
     "height": 1000
    },
    "id": "29adca8b",
    "outputId": "020e2bd5-20f6-424e-f275-92b618eeab22"
   },
   "outputs": [
    {
     "data": {
      "text/html": [
       "<div>\n",
       "<style scoped>\n",
       "    .dataframe tbody tr th:only-of-type {\n",
       "        vertical-align: middle;\n",
       "    }\n",
       "\n",
       "    .dataframe tbody tr th {\n",
       "        vertical-align: top;\n",
       "    }\n",
       "\n",
       "    .dataframe thead th {\n",
       "        text-align: right;\n",
       "    }\n",
       "</style>\n",
       "<table border=\"1\" class=\"dataframe\">\n",
       "  <thead>\n",
       "    <tr style=\"text-align: right;\">\n",
       "      <th></th>\n",
       "      <th>Unnamed: 0</th>\n",
       "      <th>Book</th>\n",
       "      <th>Author</th>\n",
       "      <th>Description</th>\n",
       "      <th>Genres</th>\n",
       "      <th>Avg_Rating</th>\n",
       "      <th>Num_Ratings</th>\n",
       "      <th>URL</th>\n",
       "    </tr>\n",
       "  </thead>\n",
       "  <tbody>\n",
       "    <tr>\n",
       "      <th>0</th>\n",
       "      <td>0</td>\n",
       "      <td>To Kill a Mockingbird</td>\n",
       "      <td>Harper Lee</td>\n",
       "      <td>The unforgettable novel of a childhood in a sl...</td>\n",
       "      <td>['Classics', 'Fiction', 'Historical Fiction', ...</td>\n",
       "      <td>4.27</td>\n",
       "      <td>5,691,311</td>\n",
       "      <td>https://www.goodreads.com/book/show/2657.To_Ki...</td>\n",
       "    </tr>\n",
       "    <tr>\n",
       "      <th>1</th>\n",
       "      <td>1</td>\n",
       "      <td>Harry Potter and the Philosopher’s Stone (Harr...</td>\n",
       "      <td>J.K. Rowling</td>\n",
       "      <td>Harry Potter thinks he is an ordinary boy - un...</td>\n",
       "      <td>['Fantasy', 'Fiction', 'Young Adult', 'Magic',...</td>\n",
       "      <td>4.47</td>\n",
       "      <td>9,278,135</td>\n",
       "      <td>https://www.goodreads.com/book/show/72193.Harr...</td>\n",
       "    </tr>\n",
       "    <tr>\n",
       "      <th>2</th>\n",
       "      <td>2</td>\n",
       "      <td>Pride and Prejudice</td>\n",
       "      <td>Jane Austen</td>\n",
       "      <td>Since its immediate success in 1813, Pride and...</td>\n",
       "      <td>['Classics', 'Fiction', 'Romance', 'Historical...</td>\n",
       "      <td>4.28</td>\n",
       "      <td>3,944,155</td>\n",
       "      <td>https://www.goodreads.com/book/show/1885.Pride...</td>\n",
       "    </tr>\n",
       "    <tr>\n",
       "      <th>3</th>\n",
       "      <td>3</td>\n",
       "      <td>The Diary of a Young Girl</td>\n",
       "      <td>Anne Frank</td>\n",
       "      <td>Discovered in the attic in which she spent the...</td>\n",
       "      <td>['Classics', 'Nonfiction', 'History', 'Biograp...</td>\n",
       "      <td>4.18</td>\n",
       "      <td>3,488,438</td>\n",
       "      <td>https://www.goodreads.com/book/show/48855.The_...</td>\n",
       "    </tr>\n",
       "    <tr>\n",
       "      <th>4</th>\n",
       "      <td>4</td>\n",
       "      <td>Animal Farm</td>\n",
       "      <td>George Orwell</td>\n",
       "      <td>Librarian's note: There is an Alternate Cover ...</td>\n",
       "      <td>['Classics', 'Fiction', 'Dystopia', 'Fantasy',...</td>\n",
       "      <td>3.98</td>\n",
       "      <td>3,575,172</td>\n",
       "      <td>https://www.goodreads.com/book/show/170448.Ani...</td>\n",
       "    </tr>\n",
       "    <tr>\n",
       "      <th>...</th>\n",
       "      <td>...</td>\n",
       "      <td>...</td>\n",
       "      <td>...</td>\n",
       "      <td>...</td>\n",
       "      <td>...</td>\n",
       "      <td>...</td>\n",
       "      <td>...</td>\n",
       "      <td>...</td>\n",
       "    </tr>\n",
       "    <tr>\n",
       "      <th>9995</th>\n",
       "      <td>9995</td>\n",
       "      <td>Breeders (Breeders Trilogy, #1)</td>\n",
       "      <td>Ashley Quigley</td>\n",
       "      <td>How far would you go? If human society was gen...</td>\n",
       "      <td>['Dystopia', 'Science Fiction', 'Post Apocalyp...</td>\n",
       "      <td>3.44</td>\n",
       "      <td>276</td>\n",
       "      <td>https://www.goodreads.com/book/show/22085400-b...</td>\n",
       "    </tr>\n",
       "    <tr>\n",
       "      <th>9996</th>\n",
       "      <td>9996</td>\n",
       "      <td>Dynamo</td>\n",
       "      <td>Eleanor Gustafson</td>\n",
       "      <td>Jeth Cavanaugh is searching for a new life alo...</td>\n",
       "      <td>[]</td>\n",
       "      <td>4.23</td>\n",
       "      <td>60</td>\n",
       "      <td>https://www.goodreads.com/book/show/20862902-d...</td>\n",
       "    </tr>\n",
       "    <tr>\n",
       "      <th>9997</th>\n",
       "      <td>9997</td>\n",
       "      <td>The Republic of Trees</td>\n",
       "      <td>Sam Taylor</td>\n",
       "      <td>This dark fable tells the story of four Englis...</td>\n",
       "      <td>['Fiction', 'Horror', 'Dystopia', 'Coming Of A...</td>\n",
       "      <td>3.29</td>\n",
       "      <td>383</td>\n",
       "      <td>https://www.goodreads.com/book/show/891262.The...</td>\n",
       "    </tr>\n",
       "    <tr>\n",
       "      <th>9998</th>\n",
       "      <td>9998</td>\n",
       "      <td>Waking Up (Healing Hearts, #1)</td>\n",
       "      <td>Renee Dyer</td>\n",
       "      <td>For Adriana Monroe life couldn’t get any bette...</td>\n",
       "      <td>['New Adult', 'Romance', 'Contemporary Romance...</td>\n",
       "      <td>4.13</td>\n",
       "      <td>263</td>\n",
       "      <td>https://www.goodreads.com/book/show/19347252-w...</td>\n",
       "    </tr>\n",
       "    <tr>\n",
       "      <th>9999</th>\n",
       "      <td>9999</td>\n",
       "      <td>Bits and Pieces: Tales and Sonnets</td>\n",
       "      <td>Jas T. Ward</td>\n",
       "      <td>After demands of thousands of fans in various ...</td>\n",
       "      <td>[]</td>\n",
       "      <td>5.00</td>\n",
       "      <td>36</td>\n",
       "      <td>https://www.goodreads.com/book/show/21302552-b...</td>\n",
       "    </tr>\n",
       "  </tbody>\n",
       "</table>\n",
       "<p>10000 rows × 8 columns</p>\n",
       "</div>"
      ],
      "text/plain": [
       "      Unnamed: 0                                               Book             Author  \\\n",
       "0              0                              To Kill a Mockingbird         Harper Lee   \n",
       "1              1  Harry Potter and the Philosopher’s Stone (Harr...       J.K. Rowling   \n",
       "2              2                                Pride and Prejudice        Jane Austen   \n",
       "3              3                          The Diary of a Young Girl         Anne Frank   \n",
       "4              4                                        Animal Farm      George Orwell   \n",
       "...          ...                                                ...                ...   \n",
       "9995        9995                    Breeders (Breeders Trilogy, #1)     Ashley Quigley   \n",
       "9996        9996                                             Dynamo  Eleanor Gustafson   \n",
       "9997        9997                              The Republic of Trees         Sam Taylor   \n",
       "9998        9998                     Waking Up (Healing Hearts, #1)         Renee Dyer   \n",
       "9999        9999                 Bits and Pieces: Tales and Sonnets        Jas T. Ward   \n",
       "\n",
       "                                            Description  \\\n",
       "0     The unforgettable novel of a childhood in a sl...   \n",
       "1     Harry Potter thinks he is an ordinary boy - un...   \n",
       "2     Since its immediate success in 1813, Pride and...   \n",
       "3     Discovered in the attic in which she spent the...   \n",
       "4     Librarian's note: There is an Alternate Cover ...   \n",
       "...                                                 ...   \n",
       "9995  How far would you go? If human society was gen...   \n",
       "9996  Jeth Cavanaugh is searching for a new life alo...   \n",
       "9997  This dark fable tells the story of four Englis...   \n",
       "9998  For Adriana Monroe life couldn’t get any bette...   \n",
       "9999  After demands of thousands of fans in various ...   \n",
       "\n",
       "                                                 Genres  Avg_Rating Num_Ratings  \\\n",
       "0     ['Classics', 'Fiction', 'Historical Fiction', ...        4.27   5,691,311   \n",
       "1     ['Fantasy', 'Fiction', 'Young Adult', 'Magic',...        4.47   9,278,135   \n",
       "2     ['Classics', 'Fiction', 'Romance', 'Historical...        4.28   3,944,155   \n",
       "3     ['Classics', 'Nonfiction', 'History', 'Biograp...        4.18   3,488,438   \n",
       "4     ['Classics', 'Fiction', 'Dystopia', 'Fantasy',...        3.98   3,575,172   \n",
       "...                                                 ...         ...         ...   \n",
       "9995  ['Dystopia', 'Science Fiction', 'Post Apocalyp...        3.44         276   \n",
       "9996                                                 []        4.23          60   \n",
       "9997  ['Fiction', 'Horror', 'Dystopia', 'Coming Of A...        3.29         383   \n",
       "9998  ['New Adult', 'Romance', 'Contemporary Romance...        4.13         263   \n",
       "9999                                                 []        5.00          36   \n",
       "\n",
       "                                                    URL  \n",
       "0     https://www.goodreads.com/book/show/2657.To_Ki...  \n",
       "1     https://www.goodreads.com/book/show/72193.Harr...  \n",
       "2     https://www.goodreads.com/book/show/1885.Pride...  \n",
       "3     https://www.goodreads.com/book/show/48855.The_...  \n",
       "4     https://www.goodreads.com/book/show/170448.Ani...  \n",
       "...                                                 ...  \n",
       "9995  https://www.goodreads.com/book/show/22085400-b...  \n",
       "9996  https://www.goodreads.com/book/show/20862902-d...  \n",
       "9997  https://www.goodreads.com/book/show/891262.The...  \n",
       "9998  https://www.goodreads.com/book/show/19347252-w...  \n",
       "9999  https://www.goodreads.com/book/show/21302552-b...  \n",
       "\n",
       "[10000 rows x 8 columns]"
      ]
     },
     "execution_count": 35,
     "metadata": {},
     "output_type": "execute_result"
    }
   ],
   "source": [
    "# Import the libraries\n",
    "import pandas as pd\n",
    "import re\n",
    "from IPython.display import display, HTML\n",
    "# Set the display width to control the output width\n",
    "pd.set_option('display.width', 100)\n",
    "# Read the dataset and read the Laptop Dataset\n"
   ]
  },
  {
   "cell_type": "code",
   "execution_count": null,
   "id": "6f51a7fe-ca8a-4b81-9c18-6fe771ef600b",
   "metadata": {},
   "outputs": [],
   "source": [
    "df = pd.read_csv('goodreads_data.csv')\n",
    "df"
   ]
  },
  {
   "cell_type": "markdown",
   "id": "81bc7e3b",
   "metadata": {
    "id": "81bc7e3b"
   },
   "source": [
    "#### Approach:\n",
    "\n",
    "1. **Conversation and Information Gathering**: The chatbot will utilize language models to understand and generate natural responses. Through a conversational flow, it will ask relevant questions to gather information about the user's requirements.\n",
    "2. **Information Extraction**: Once the essential information is collected, rule-based functions come into play, extracting top 3 books that best matches the user's interest.\n",
    "3. **Personalized Recommendation**: Leveraging this extracted information, the chatbot engages in further dialogue with the user, efficiently addressing their questions to narrow down the book."
   ]
  },
  {
   "cell_type": "markdown",
   "id": "5e7aada9",
   "metadata": {
    "id": "5e7aada9"
   },
   "source": [
    "## Part 2: System Design"
   ]
  },
  {
   "cell_type": "markdown",
   "id": "a43fb33e",
   "metadata": {
    "id": "a43fb33e"
   },
   "source": [
    "\n",
    "#### Dataset\n",
    "\n",
    "We have a dataset `goodreads_data.csv` where  each row describes the features of a single book and also has a small description and link at the end. The chatbot that we build will leverage LLMs to parse this `Genere` , `Rating' and  `Description` column and provide recommendations"
   ]
  },
  {
   "cell_type": "markdown",
   "id": "73d39aba",
   "metadata": {
    "id": "73d39aba"
   },
   "source": [
    "- Determine the user's interest. For simplicity, we have used below features to encapsulate the user's interest. The features are as follows:\n",
    "    - Genere\n",
    "    - Short description (capture user specific interest within provided Genres)\n",
    "    - Preferred Author (Optional)\n",
    "    - Rating\n",
    "\n",
    "- Confirm if the user's requirements have been correctly captured at the end.\n",
    "\n",
    "After that the chatbot lists down the top 3 books that are the most relevant, and engages in further conversation to help the user find the best one.\n"
   ]
  },
  {
   "cell_type": "markdown",
   "id": "281ca223",
   "metadata": {
    "id": "281ca223"
   },
   "source": [
    "#### Building the Chatbot\n",
    "\n",
    "Now let's go ahead and understand the system design for the chatbot.\n"
   ]
  },
  {
   "cell_type": "markdown",
   "id": "51b581e9",
   "metadata": {
    "id": "51b581e9"
   },
   "source": [
    "I'm leveraging the same system designed used for learning and build the chat bot in following stages\n",
    "|`Stage 1`\n",
    "\n",
    "- Intent Clarity Layer\n",
    "- Intent Confirmation Layer\n",
    "\n",
    "`Stage 2`\n",
    "\n",
    "- Book Mapping Layer\n",
    "- Book Information Extraction Layer\n",
    "\n",
    "`Stage 3`\n",
    "\n",
    "- Book Recommendation Layer"
   ]
  },
  {
   "cell_type": "markdown",
   "id": "bbceebf1",
   "metadata": {
    "id": "bbceebf1"
   },
   "source": [
    "##### Major functions behind the Chatbot\n",
    "\n",
    "Let's now look at a brief overview of the major functions that form the chatbot. We'll take a deep dive later\n",
    "\n",
    "\n",
    "\n",
    "- `initialize_conversation()`: This initializes the variable conversation with the system message.\n",
    "- `get_chat_completions()`: This takes the ongoing conversation as the input and returns the response by the assistant\n",
    "- `moderation_check()`: This checks if the user's or the assistant's message is inappropriate. If any of these is inappropriate, it ends the conversation.\n",
    "- `intent_confirmation_layer()`: This function takes the assistant's response and evaluates if the chatbot has captured the user's profile clearly. Specifically, this checks if the following properties for the user has been captured or not  Author, Genere and short description containing interest\n",
    "- `dictionary_present()`: This function checks if the final understanding of user's profile is returned by the chatbot as a python dictionary or not. If there is a dictionary, it extracts the information as a Python dictionary.\n",
    "- `compare_book_with_userinterest()`: This function compares the user's profile with the different books and come back with the top 3 recommendations baed on rating.\n",
    "- `initialize_conv_reco()`: Initializes the recommendations conversation"
   ]
  },
  {
   "cell_type": "markdown",
   "id": "8cd07e7a",
   "metadata": {
    "id": "8cd07e7a"
   },
   "source": [
    "In the next sections, we will look at how to write the code for the above functions."
   ]
  },
  {
   "cell_type": "markdown",
   "id": "59bd717d",
   "metadata": {
    "id": "59bd717d"
   },
   "source": [
    "## Part 3: Implementation"
   ]
  },
  {
   "cell_type": "markdown",
   "id": "mPMUbPd0R8nl",
   "metadata": {
    "id": "mPMUbPd0R8nl"
   },
   "source": [
    "## Stage 1"
   ]
  },
  {
   "cell_type": "markdown",
   "id": "680b636d",
   "metadata": {
    "id": "680b636d"
   },
   "source": [
    "### 3.1 - Import the libraries\n",
    "\n",
    "Let's start by importing the libraries that we'll require for this project. Following are the ones:\n",
    "- openai\n",
    "- pandas\n",
    "- os, json, ast\n",
    "\n",
    "Make sure the api key is stored in the text file `OPENAI_API_Key.txt`."
   ]
  },
  {
   "cell_type": "code",
   "execution_count": 37,
   "id": "65e05f4f",
   "metadata": {
    "id": "65e05f4f"
   },
   "outputs": [],
   "source": [
    "# Import the libraries\n",
    "import os, json, ast\n",
    "import openai\n",
    "from tenacity import retry, wait_random_exponential, stop_after_attempt"
   ]
  },
  {
   "cell_type": "code",
   "execution_count": 59,
   "id": "7c90af6c",
   "metadata": {
    "id": "7c90af6c"
   },
   "outputs": [],
   "source": [
    "# Read the OpenAI API key\n",
    "openai.api_key = open(\"OPENAI_API_Key.txt\", \"r\").read().strip()\n",
    "os.environ['OPENAI_API_KEY'] = openai.api_key"
   ]
  },
  {
   "cell_type": "code",
   "execution_count": 39,
   "id": "c67a2ea6",
   "metadata": {
    "id": "c67a2ea6"
   },
   "outputs": [],
   "source": [
    "# # Recall that messages to the LLM is a list of dicts containing system_message, user_input and assistant_message\n",
    "# conversation = [{\"role\": \"system\", \"content\": system_message},\n",
    "#                 {\"role\": \"user\", \"content\": user_input},\n",
    "#                 {\"role\": \"assistant\", \"content\": assistant_message}]"
   ]
  },
  {
   "cell_type": "markdown",
   "id": "f6597837",
   "metadata": {
    "id": "f6597837"
   },
   "source": [
    "### 3.2 - Implementing Intent Clarity and Intent Confirmation Layers\n",
    "\n",
    "Let's start with the first part of the implementation - building the `intent clarity` and `intent confirmation` layers. As mentioned earlier, this layer helps in identifying the user requirements and passing it on to the book matching layer. Here are the functions that we would be using for building these layers:\n",
    "\n",
    "- `initialize_conversation()`\n"
   ]
  },
  {
   "cell_type": "markdown",
   "id": "muGgwBrxxr58",
   "metadata": {
    "id": "muGgwBrxxr58"
   },
   "source": [
    "### `initialize_conversation()`:\n",
    "This initializes the variable conversation with the system message. Using prompt engineering and chain of thought reasoning, the function will enable the chatbot to keep asking questions until the user requirements have been captured in a dictionary. It also includes Few Shot Prompting(sample conversation between the user and assistant) to align the model about user and assistant responses at each step."
   ]
  },
  {
   "cell_type": "code",
   "execution_count": 190,
   "id": "431f76f6",
   "metadata": {
    "id": "431f76f6"
   },
   "outputs": [],
   "source": [
    "def initialize_conversation():\n",
    "    '''\n",
    "    Returns a list [{\"role\": \"system\", \"content\": system_message}]\n",
    "    '''\n",
    "\n",
    "    delimiter = \"####\"\n",
    "\n",
    "    example_user_dict = {'Genres': [\"Fantasy\",\"Classic\"],\n",
    "                        'Author':\"J.K.Rowling\",\n",
    "                        'Description': \"something involving castles\",\n",
    "                        'Rating': \"greater than 3.5\"\n",
    "                        }\n",
    "\n",
    "    example_user_req = {'Genres': [\"_\"],\n",
    "                        'Author': \"_\",\n",
    "                        'Description': \"_\",\n",
    "                        'Rating': \"_\"\n",
    "                        }\n",
    "\n",
    "    system_message = f\"\"\"\n",
    "    You are an intelligent book recommendation expert and your goal is to find the best book for a user.\n",
    "    You need to ask relevant questions and understand the user interest  by analysing the user's interest in Genress.\n",
    "    You final objective is to fill the values for the different keys ('Genres','Author','Description','Rating') in the python dictionary and be confident of the values.\n",
    "    These key value pairs define the user's profile.\n",
    "    The python dictionary looks like this\n",
    "    {{'Genres': ['values'],'Author': 'values','Description': 'values','Rating': 'values'}}\n",
    "    The value for 'Rating' should include a numerical value extracted from the user's response , it can also include with less than or greater than or absolute value as well.\n",
    "    The values of 'Description' should include users preferrence based on provided Genres values, as stated by user.\n",
    "    All the values in the example dictionary are only representative values.\n",
    "    {delimiter}\n",
    "    Here are some instructions around the values for the different keys. If you do not follow this, you'll be heavily penalised:\n",
    "    - The values for 'Genres' should have atlest one or more Genress given as input by users and format it into comma seperated list\n",
    "    - The values for 'Author' can be optional but do ask the user for thier preference, it's ok if author is not provided.\n",
    "    - The value for 'Description' should be a short description of what user is looking for\n",
    "    - The value for 'Rating' should include a numerical value extracted from the user's response , it can also include with less than or greater than or absolute value as well..\n",
    "    - 'Rating' value needs to be between 1 and 5 and user input can say 'greater than a certain number'. The value can also be fraction value between 1 and 5. If the user says less than 0 or greater than 5, please mention that they need to provide value in given range.\n",
    "    - Do not randomly assign values to any of the keys.\n",
    "    - The values need to be inferred from the user's response.\n",
    "    {delimiter}\n",
    "\n",
    "    To fill the dictionary, you need to have the following chain of thoughts:\n",
    "    Follow the chain-of-thoughts below and only output the final updated python dictionary for the keys as described in {example_user_req}. \\n\n",
    "    {delimiter}\n",
    "    Thought 1: Ask a question to understand the user's profile and requirements. \\n\n",
    "    If their Genres or short description of the book is unclear. Ask followup questions to understand their and gather proper Genres.\n",
    "    You are trying to fill the values of all the keys {{'Genres','Author','Description','Rating'}} in the python dictionary by understanding the user requirements.\n",
    "    Identify the keys for which you can fill the values confidently using the understanding. \\n\n",
    "    Remember the instructions around the values for the different keys.\n",
    "    If the necessary information has been extracted, only then proceed to the next step. \\n\n",
    "    Otherwise, rephrase the question to capture their profile or interest clearly. \\n\n",
    "\n",
    "    {delimiter}\n",
    "    Thought 2: Now, you are trying to fill the values for the rest of the keys which you couldn't in the previous step.\n",
    "    Remember the instructions around the values for the different keys.\n",
    "    Ask questions you might have for all the keys to strengthen your understanding of the user's profile or interest.\n",
    "    If yes, move to the next Thought. If no, ask question on the keys whose values you are unsure of. \\n\n",
    "    It is a good practice to ask question with a sound logic as opposed to directly citing the key you want to understand value for.\n",
    "    {delimiter}\n",
    "\n",
    "    {delimiter}\n",
    "    Thought 3: Check if you have correctly updated the values for the different keys in the python dictionary.\n",
    "    If you are not confident about any of the values, ask clarifying questions.\n",
    "    {delimiter}\n",
    "\n",
    "    {delimiter}\n",
    "    Here is a sample conversation between the user and assistant:\n",
    "    User: \"Hi, I like fiction.\"\n",
    "    Assistant: \"Great! As an fiction reader, you like books that transport you to different worlds, times, and experiences, offering a delightful escape from reality. May I know if you have any preferred authors? Do you preferrer any theme within fiction? Understanding the theme or preferences will help me tailor my recommendations accordingly. Let me know if my understanding is correct until now.\"\n",
    "    User: \"I read works of J.K.Rowling and similar.\"\n",
    "    Assistant: \"Tell about the kind of stories you love, to help you discover your next favorite book. Whether you're in the mood for a gripping thriller, a tender romance, or a fantastical adventure\"\n",
    "    User: \"Yes, I'm in the mood for gripping thriller.\"\n",
    "    Assistant:\"Thank you for the information. Could you kindly let me know what rating are you looking for the recommended books? This will help me find options that fit within your range and I might be able to find good book in rating range while meeting the specified requirements as well.\"\n",
    "    User: \"my rating is greater than 3.5\"\n",
    "    Assistant: \"{example_user_dict}\"\n",
    "    {delimiter}\n",
    "\n",
    "    Start with a short welcome message and encourage the user to share their requirements.\n",
    "    \"\"\"\n",
    "    conversation = [{\"role\": \"system\", \"content\": system_message}]\n",
    "    # conversation = system_message\n",
    "    return conversation"
   ]
  },
  {
   "cell_type": "markdown",
   "id": "cb1dc961",
   "metadata": {
    "id": "cb1dc961"
   },
   "source": [
    "Let's see what does `initialize_conversation()` does.\n",
    "\n",
    "<br>\n",
    "\n",
    "We have added a prefix `debug_` to each of the variables so that we can play around with the inputs and outputs and it doesn't disturb the main function."
   ]
  },
  {
   "cell_type": "code",
   "execution_count": 191,
   "id": "ae92d8e0",
   "metadata": {
    "colab": {
     "base_uri": "https://localhost:8080/"
    },
    "id": "ae92d8e0",
    "outputId": "d5f1113c-bcad-4a55-fbe8-8c7e92f428b2",
    "scrolled": true
   },
   "outputs": [
    {
     "name": "stdout",
     "output_type": "stream",
     "text": [
      "[{'role': 'system', 'content': '\\n    You are an intelligent book recommendation expert and your goal is to find the best book for a user.\\n    You need to ask relevant questions and understand the user interest  by analysing the user\\'s interest in Genress.\\n    You final objective is to fill the values for the different keys (\\'Genres\\',\\'Author\\',\\'Description\\',\\'Rating\\') in the python dictionary and be confident of the values.\\n    These key value pairs define the user\\'s profile.\\n    The python dictionary looks like this\\n    {\\'Genres\\': [\\'values\\'],\\'Author\\': \\'values\\',\\'Description\\': \\'values\\',\\'Rating\\': \\'values\\'}\\n    The value for \\'Rating\\' should include a numerical value extracted from the user\\'s response , it can also include with less than or greater than or absolute value as well.\\n    The values of \\'Description\\' should include users preferrence based on provided Genres values, as stated by user.\\n    All the values in the example dictionary are only representative values.\\n    ####\\n    Here are some instructions around the values for the different keys. If you do not follow this, you\\'ll be heavily penalised:\\n    - The values for \\'Genres\\' should have atlest one or more Genress given as input by users and format it into comma seperated list\\n    - The values for \\'Author\\' can be optional but do ask the user for thier preference, it\\'s ok if author is not provided.\\n    - The value for \\'Description\\' should be a short description of what user is looking for\\n    - The value for \\'Rating\\' should include a numerical value extracted from the user\\'s response , it can also include with less than or greater than or absolute value as well..\\n    - \\'Rating\\' value needs to be between 1 and 5 and user input can say \\'greater than a certain number\\'. The value can also be fraction value between 1 and 5. If the user says less than 0 or greater than 5, please mention that they need to provide value in given range.\\n    - Do not randomly assign values to any of the keys.\\n    - The values need to be inferred from the user\\'s response.\\n    ####\\n\\n    To fill the dictionary, you need to have the following chain of thoughts:\\n    Follow the chain-of-thoughts below and only output the final updated python dictionary for the keys as described in {\\'Genres\\': [\\'_\\'], \\'Author\\': \\'_\\', \\'Description\\': \\'_\\', \\'Rating\\': \\'_\\'}. \\n\\n    ####\\n    Thought 1: Ask a question to understand the user\\'s profile and requirements. \\n\\n    If their Genres or short description of the book is unclear. Ask followup questions to understand their and gather proper Genres.\\n    You are trying to fill the values of all the keys {\\'Genres\\',\\'Author\\',\\'Description\\',\\'Rating\\'} in the python dictionary by understanding the user requirements.\\n    Identify the keys for which you can fill the values confidently using the understanding. \\n\\n    Remember the instructions around the values for the different keys.\\n    If the necessary information has been extracted, only then proceed to the next step. \\n\\n    Otherwise, rephrase the question to capture their profile or interest clearly. \\n\\n\\n    ####\\n    Thought 2: Now, you are trying to fill the values for the rest of the keys which you couldn\\'t in the previous step.\\n    Remember the instructions around the values for the different keys.\\n    Ask questions you might have for all the keys to strengthen your understanding of the user\\'s profile or interest.\\n    If yes, move to the next Thought. If no, ask question on the keys whose values you are unsure of. \\n\\n    It is a good practice to ask question with a sound logic as opposed to directly citing the key you want to understand value for.\\n    ####\\n\\n    ####\\n    Thought 3: Check if you have correctly updated the values for the different keys in the python dictionary.\\n    If you are not confident about any of the values, ask clarifying questions.\\n    ####\\n\\n    ####\\n    Here is a sample conversation between the user and assistant:\\n    User: \"Hi, I like fiction.\"\\n    Assistant: \"Great! As an fiction reader, you like books that transport you to different worlds, times, and experiences, offering a delightful escape from reality. May I know if you have any preferred authors? Do you preferrer any theme within fiction? Understanding the theme or preferences will help me tailor my recommendations accordingly. Let me know if my understanding is correct until now.\"\\n    User: \"I read works of J.K.Rowling and similar.\"\\n    Assistant: \"Tell about the kind of stories you love, to help you discover your next favorite book. Whether you\\'re in the mood for a gripping thriller, a tender romance, or a fantastical adventure\"\\n    User: \"Yes, I\\'m in the mood for gripping thriller.\"\\n    Assistant:\"Thank you for the information. Could you kindly let me know what rating are you looking for the recommended books? This will help me find options that fit within your range and I might be able to find good book in rating range while meeting the specified requirements as well.\"\\n    User: \"my rating is greater than 3.5\"\\n    Assistant: \"{\\'Genres\\': [\\'Fantasy\\', \\'Classic\\'], \\'Author\\': \\'J.K.Rowling\\', \\'Description\\': \\'something involving castles\\', \\'Rating\\': \\'greater than 3.5\\'}\"\\n    ####\\n\\n    Start with a short welcome message and encourage the user to share their requirements.\\n    '}]\n"
     ]
    }
   ],
   "source": [
    "debug_conversation = initialize_conversation()\n",
    "print(debug_conversation)"
   ]
  },
  {
   "cell_type": "code",
   "execution_count": 192,
   "id": "FT3X4UaOMVTe",
   "metadata": {
    "colab": {
     "base_uri": "https://localhost:8080/"
    },
    "id": "FT3X4UaOMVTe",
    "outputId": "d3808742-71d3-48d0-e703-ec1904b28aad"
   },
   "outputs": [
    {
     "name": "stdout",
     "output_type": "stream",
     "text": [
      "\n",
      "    You are an intelligent book recommendation expert and your goal is to find the best book for a user.\n",
      "    You need to ask relevant questions and understand the user interest  by analysing the user's interest in Genress.\n",
      "    You final objective is to fill the values for the different keys ('Genres','Author','Description','Rating') in the python dictionary and be confident of the values.\n",
      "    These key value pairs define the user's profile.\n",
      "    The python dictionary looks like this\n",
      "    {'Genres': ['values'],'Author': 'values','Description': 'values','Rating': 'values'}\n",
      "    The value for 'Rating' should include a numerical value extracted from the user's response , it can also include with less than or greater than or absolute value as well.\n",
      "    The values of 'Description' should include users preferrence based on provided Genres values, as stated by user.\n",
      "    All the values in the example dictionary are only representative values.\n",
      "    ####\n",
      "    Here are some instructions around the values for the different keys. If you do not follow this, you'll be heavily penalised:\n",
      "    - The values for 'Genres' should have atlest one or more Genress given as input by users and format it into comma seperated list\n",
      "    - The values for 'Author' can be optional but do ask the user for thier preference, it's ok if author is not provided.\n",
      "    - The value for 'Description' should be a short description of what user is looking for\n",
      "    - The value for 'Rating' should include a numerical value extracted from the user's response , it can also include with less than or greater than or absolute value as well..\n",
      "    - 'Rating' value needs to be between 1 and 5 and user input can say 'greater than a certain number'. The value can also be fraction value between 1 and 5. If the user says less than 0 or greater than 5, please mention that they need to provide value in given range.\n",
      "    - Do not randomly assign values to any of the keys.\n",
      "    - The values need to be inferred from the user's response.\n",
      "    ####\n",
      "\n",
      "    To fill the dictionary, you need to have the following chain of thoughts:\n",
      "    Follow the chain-of-thoughts below and only output the final updated python dictionary for the keys as described in {'Genres': ['_'], 'Author': '_', 'Description': '_', 'Rating': '_'}. \n",
      "\n",
      "    ####\n",
      "    Thought 1: Ask a question to understand the user's profile and requirements. \n",
      "\n",
      "    If their Genres or short description of the book is unclear. Ask followup questions to understand their and gather proper Genres.\n",
      "    You are trying to fill the values of all the keys {'Genres','Author','Description','Rating'} in the python dictionary by understanding the user requirements.\n",
      "    Identify the keys for which you can fill the values confidently using the understanding. \n",
      "\n",
      "    Remember the instructions around the values for the different keys.\n",
      "    If the necessary information has been extracted, only then proceed to the next step. \n",
      "\n",
      "    Otherwise, rephrase the question to capture their profile or interest clearly. \n",
      "\n",
      "\n",
      "    ####\n",
      "    Thought 2: Now, you are trying to fill the values for the rest of the keys which you couldn't in the previous step.\n",
      "    Remember the instructions around the values for the different keys.\n",
      "    Ask questions you might have for all the keys to strengthen your understanding of the user's profile or interest.\n",
      "    If yes, move to the next Thought. If no, ask question on the keys whose values you are unsure of. \n",
      "\n",
      "    It is a good practice to ask question with a sound logic as opposed to directly citing the key you want to understand value for.\n",
      "    ####\n",
      "\n",
      "    ####\n",
      "    Thought 3: Check if you have correctly updated the values for the different keys in the python dictionary.\n",
      "    If you are not confident about any of the values, ask clarifying questions.\n",
      "    ####\n",
      "\n",
      "    ####\n",
      "    Here is a sample conversation between the user and assistant:\n",
      "    User: \"Hi, I like fiction.\"\n",
      "    Assistant: \"Great! As an fiction reader, you like books that transport you to different worlds, times, and experiences, offering a delightful escape from reality. May I know if you have any preferred authors? Do you preferrer any theme within fiction? Understanding the theme or preferences will help me tailor my recommendations accordingly. Let me know if my understanding is correct until now.\"\n",
      "    User: \"I read works of J.K.Rowling and similar.\"\n",
      "    Assistant: \"Tell about the kind of stories you love, to help you discover your next favorite book. Whether you're in the mood for a gripping thriller, a tender romance, or a fantastical adventure\"\n",
      "    User: \"Yes, I'm in the mood for gripping thriller.\"\n",
      "    Assistant:\"Thank you for the information. Could you kindly let me know what rating are you looking for the recommended books? This will help me find options that fit within your range and I might be able to find good book in rating range while meeting the specified requirements as well.\"\n",
      "    User: \"my rating is greater than 3.5\"\n",
      "    Assistant: \"{'Genres': ['Fantasy', 'Classic'], 'Author': 'J.K.Rowling', 'Description': 'something involving castles', 'Rating': 'greater than 3.5'}\"\n",
      "    ####\n",
      "\n",
      "    Start with a short welcome message and encourage the user to share their requirements.\n",
      "    \n"
     ]
    }
   ],
   "source": [
    "# Let's look at the content in the debug_conversation key\n",
    "print(debug_conversation[0]['content'])"
   ]
  },
  {
   "cell_type": "code",
   "execution_count": 193,
   "id": "ytJ1tPNDMtZF",
   "metadata": {
    "colab": {
     "base_uri": "https://localhost:8080/"
    },
    "id": "ytJ1tPNDMtZF",
    "outputId": "d56d34c5-2f6f-4ed2-d3cf-10001ef80dcf"
   },
   "outputs": [
    {
     "name": "stdout",
     "output_type": "stream",
     "text": [
      "\n",
      "    You are an intelligent book recommendation expert and your goal is to find the best book for a user.\n",
      "    You need to ask relevant questions and understand the user interest  by analysing the user's interest in Genress.\n",
      "    You final objective is to fill the values for the different keys ('Genres','Author','Description','Rating') in the python dictionary and be confident of the values.\n",
      "    These key value pairs define the user's profile.\n",
      "    The python dictionary looks like this\n",
      "    {'Genres': ['values'],'Author': 'values','Description': 'values','Rating': 'values'}\n",
      "    The value for 'Rating' should include a numerical value extracted from the user's response , it can also include with less than or greater than or absolute value as well.\n",
      "    The values of 'Description' should include users preferrence based on provided Genres values, as stated by user.\n",
      "    All the values in the example dictionary are only representative values.\n",
      "    ####\n",
      "    Here are some instructions around the values for the different keys. If you do not follow this, you'll be heavily penalised:\n",
      "    - The values for 'Genres' should have atlest one or more Genress given as input by users and format it into comma seperated list\n",
      "    - The values for 'Author' can be optional but do ask the user for thier preference, it's ok if author is not provided.\n",
      "    - The value for 'Description' should be a short description of what user is looking for\n",
      "    - The value for 'Rating' should include a numerical value extracted from the user's response , it can also include with less than or greater than or absolute value as well..\n",
      "    - 'Rating' value needs to be between 1 and 5 and user input can say 'greater than a certain number'. The value can also be fraction value between 1 and 5. If the user says less than 0 or greater than 5, please mention that they need to provide value in given range.\n",
      "    - Do not randomly assign values to any of the keys.\n",
      "    - The values need to be inferred from the user's response.\n",
      "    ####\n",
      "\n",
      "    To fill the dictionary, you need to have the following chain of thoughts:\n",
      "    Follow the chain-of-thoughts below and only output the final updated python dictionary for the keys as described in {'Genres': ['_'], 'Author': '_', 'Description': '_', 'Rating': '_'}. \n",
      "\n",
      "    ####\n",
      "    Thought 1: Ask a question to understand the user's profile and requirements. \n",
      "\n",
      "    If their Genres or short description of the book is unclear. Ask followup questions to understand their and gather proper Genres.\n",
      "    You are trying to fill the values of all the keys {'Genres','Author','Description','Rating'} in the python dictionary by understanding the user requirements.\n",
      "    Identify the keys for which you can fill the values confidently using the understanding. \n",
      "\n",
      "    Remember the instructions around the values for the different keys.\n",
      "    If the necessary information has been extracted, only then proceed to the next step. \n",
      "\n",
      "    Otherwise, rephrase the question to capture their profile or interest clearly. \n",
      "\n",
      "\n",
      "    ####\n",
      "    Thought 2: Now, you are trying to fill the values for the rest of the keys which you couldn't in the previous step.\n",
      "    Remember the instructions around the values for the different keys.\n",
      "    Ask questions you might have for all the keys to strengthen your understanding of the user's profile or interest.\n",
      "    If yes, move to the next Thought. If no, ask question on the keys whose values you are unsure of. \n",
      "\n",
      "    It is a good practice to ask question with a sound logic as opposed to directly citing the key you want to understand value for.\n",
      "    ####\n",
      "\n",
      "    ####\n",
      "    Thought 3: Check if you have correctly updated the values for the different keys in the python dictionary.\n",
      "    If you are not confident about any of the values, ask clarifying questions.\n",
      "    ####\n",
      "\n",
      "    ####\n",
      "    Here is a sample conversation between the user and assistant:\n",
      "    User: \"Hi, I like fiction.\"\n",
      "    Assistant: \"Great! As an fiction reader, you like books that transport you to different worlds, times, and experiences, offering a delightful escape from reality. May I know if you have any preferred authors? Do you preferrer any theme within fiction? Understanding the theme or preferences will help me tailor my recommendations accordingly. Let me know if my understanding is correct until now.\"\n",
      "    User: \"I read works of J.K.Rowling and similar.\"\n",
      "    Assistant: \"Tell about the kind of stories you love, to help you discover your next favorite book. Whether you're in the mood for a gripping thriller, a tender romance, or a fantastical adventure\"\n",
      "    User: \"Yes, I'm in the mood for gripping thriller.\"\n",
      "    Assistant:\"Thank you for the information. Could you kindly let me know what rating are you looking for the recommended books? This will help me find options that fit within your range and I might be able to find good book in rating range while meeting the specified requirements as well.\"\n",
      "    User: \"my rating is greater than 3.5\"\n",
      "    Assistant: \"{'Genres': ['Fantasy', 'Classic'], 'Author': 'J.K.Rowling', 'Description': 'something involving castles', 'Rating': 'greater than 3.5'}\"\n",
      "    ####\n",
      "\n",
      "    Start with a short welcome message and encourage the user to share their requirements.\n",
      "    \n"
     ]
    }
   ],
   "source": [
    "# Let's initialise conversation\n",
    "system_message = initialize_conversation()\n",
    "print(system_message[0][\"content\"])"
   ]
  },
  {
   "cell_type": "markdown",
   "id": "00f77346",
   "metadata": {
    "id": "00f77346"
   },
   "source": [
    "Let's now look at the next function.\n",
    "- `get_chat_completions()`: This takes the ongoing conversation as the input and returns the response by the assistant. We'll use the Chat Completions function for performing LLM calls to OpenAI."
   ]
  },
  {
   "cell_type": "markdown",
   "id": "ucpdMHI5_jEX",
   "metadata": {
    "id": "ucpdMHI5_jEX"
   },
   "source": [
    "### `get_chat_completions()`:\n",
    "\n",
    "This function perform LLM call using the Chat Completions API to get the LLM response."
   ]
  },
  {
   "cell_type": "code",
   "execution_count": 194,
   "id": "dYShGKumNEIM",
   "metadata": {
    "id": "dYShGKumNEIM"
   },
   "outputs": [],
   "source": [
    "# Define a Chat Completions API call\n",
    "# Retry up to 6 times with exponential backoff, starting at 1 second and maxing out at 20 seconds delay\n",
    "# @retry(wait=wait_random_exponential(min=1, max=20), stop=stop_after_attempt(6))\n",
    "def get_chat_completions(input, json_format = False):\n",
    "    MODEL = 'gpt-3.5-turbo'\n",
    "\n",
    "    system_message_json_output = \"\"\"<<. Return output in JSON format to the key output.>>\"\"\"\n",
    "\n",
    "    # If the output is required to be in JSON format\n",
    "    if json_format == True:\n",
    "        # Append the input prompt to include JSON response as specified by OpenAI\n",
    "        input[0]['content'] += system_message_json_output\n",
    "\n",
    "        # JSON return type specified\n",
    "        chat_completion_json = openai.chat.completions.create(\n",
    "            model = MODEL,\n",
    "            messages = input,\n",
    "            response_format = { \"type\": \"json_object\"},\n",
    "            seed = 1234)\n",
    "\n",
    "        output = json.loads(chat_completion_json.choices[0].message.content)\n",
    "\n",
    "    # No JSON return type specified\n",
    "    else:\n",
    "        chat_completion = openai.chat.completions.create(\n",
    "            model = MODEL,\n",
    "            messages = input,\n",
    "            seed = 2345)\n",
    "\n",
    "        output = chat_completion.choices[0].message.content\n",
    "\n",
    "    return output"
   ]
  },
  {
   "cell_type": "code",
   "execution_count": 49,
   "id": "uCpAS4qVqrSt",
   "metadata": {
    "colab": {
     "base_uri": "https://localhost:8080/"
    },
    "id": "uCpAS4qVqrSt",
    "outputId": "69dd7ac3-35ab-4320-d764-eaf496e5627e"
   },
   "outputs": [
    {
     "data": {
      "text/plain": [
       "[{'role': 'user', 'content': 'What is the capital of France?'}]"
      ]
     },
     "execution_count": 49,
     "metadata": {},
     "output_type": "execute_result"
    }
   ],
   "source": [
    "# Testing the OpenAI functions defined above\n",
    "# input_prompt ='What is the capital of France?'\n",
    "# messages = [{'role':'user','content':input_prompt}]\n",
    "# # system_message_json_output = \"\"\"<<. Return output in JSON format.>>\"\"\"\n",
    "# # messages[0]['content']+=system_message_json_output\n",
    "# messages"
   ]
  },
  {
   "cell_type": "code",
   "execution_count": 50,
   "id": "kTygsGiIMAEM",
   "metadata": {
    "colab": {
     "base_uri": "https://localhost:8080/",
     "height": 36
    },
    "id": "kTygsGiIMAEM",
    "outputId": "720209cc-8e6d-4f80-aea7-089f101b3d29"
   },
   "outputs": [
    {
     "data": {
      "text/plain": [
       "'The capital of France is Paris.'"
      ]
     },
     "execution_count": 50,
     "metadata": {},
     "output_type": "execute_result"
    }
   ],
   "source": [
    "## Get LLM Outputs - normal\n",
    "# get_chat_completions(messages) ## Chat Completions API"
   ]
  },
  {
   "cell_type": "markdown",
   "id": "I6gq3hIj6XEr",
   "metadata": {
    "id": "I6gq3hIj6XEr"
   },
   "source": [
    "### iterate_response() - Helper Function:\n",
    "We've created a small helper test function to ensure the model's response is consistent.\n",
    "Uncomment the code blocks and run the function `iterate_response(response)` to check if the response of the `intent_confirmation_layer`is consistent.}"
   ]
  },
  {
   "cell_type": "code",
   "execution_count": 195,
   "id": "3c369bd0",
   "metadata": {
    "id": "3c369bd0"
   },
   "outputs": [],
   "source": [
    "def iterate_llm_response(funct, debug_response, num = 10):\n",
    "    \"\"\"\n",
    "    Calls a specified function repeatedly and prints the results.\n",
    "    This function is designed to test the consistency of a response from a given function.\n",
    "    It calls the function multiple times (default is 10) and prints out the iteration count,\n",
    "    the function's response(s).\n",
    "    Args:\n",
    "        funct (function): The function to be tested. This function should accept a single argument\n",
    "                          and return the response value(s).\n",
    "        debug_response (dict): The input argument to be passed to 'funct' on each call.\n",
    "        num (int, optional): The number of times 'funct' will be called. Defaults to 10.\n",
    "    Returns:\n",
    "        This function only returns the results to the console.\n",
    "    \"\"\"\n",
    "    i = 0  # Initialize counter\n",
    "\n",
    "    while i < num:  # Loop to call the function 'num' times\n",
    "\n",
    "        response = funct(debug_response)  # Call the function with the debug response\n",
    "\n",
    "        # Print the iteration number, result, and reason from the response\n",
    "        print(\"Iteration: {0}\".format(i))\n",
    "        print(response)\n",
    "        print('-' * 50)  # Print a separator line for readability\n",
    "        i += 1  # Increment the counter\n",
    "\n",
    "# Example usage: test the consistency of responses from 'intent_confirmation_layer'\n",
    "# iterate_llm_response(get_chat_completions, messages)"
   ]
  },
  {
   "cell_type": "markdown",
   "id": "af181448",
   "metadata": {
    "id": "af181448"
   },
   "source": [
    "Let's pass the initialized conversation `debug_conversation` and see what is the assistant's response."
   ]
  },
  {
   "cell_type": "code",
   "execution_count": 196,
   "id": "7fca12a4",
   "metadata": {
    "id": "7fca12a4"
   },
   "outputs": [],
   "source": [
    "debug_user_input = \"Hi, I am Mahalakshmi. I need a book from classic and non-fiction Genres.\""
   ]
  },
  {
   "cell_type": "code",
   "execution_count": 197,
   "id": "h1vip-2uj_M7",
   "metadata": {
    "colab": {
     "base_uri": "https://localhost:8080/"
    },
    "id": "h1vip-2uj_M7",
    "outputId": "ab5dd1a6-83bb-4f69-94bd-8e8e8a2f200a"
   },
   "outputs": [],
   "source": [
    "debug_conversation.append({\"role\": \"user\", \"content\": debug_user_input})"
   ]
  },
  {
   "cell_type": "code",
   "execution_count": 198,
   "id": "6d3fb776-ad44-4ada-b55e-219ae4ef25b0",
   "metadata": {},
   "outputs": [
    {
     "name": "stdout",
     "output_type": "stream",
     "text": [
      "Hi, I am Mahalakshmi. I need a book from classic and non-fiction Genres.\n"
     ]
    }
   ],
   "source": [
    "# print(debug_conversation[0][\"content\"]) # System Message\n",
    "print(debug_conversation[1][\"content\"]) # User Input"
   ]
  },
  {
   "cell_type": "code",
   "execution_count": 199,
   "id": "aZyiegRPOLJC",
   "metadata": {
    "colab": {
     "base_uri": "https://localhost:8080/",
     "height": 1000
    },
    "id": "aZyiegRPOLJC",
    "outputId": "f4333c34-3042-4e73-dcbf-185da82e98b3"
   },
   "outputs": [
    {
     "data": {
      "text/plain": [
       "[{'role': 'system',\n",
       "  'content': '\\n    You are an intelligent book recommendation expert and your goal is to find the best book for a user.\\n    You need to ask relevant questions and understand the user interest  by analysing the user\\'s interest in Genress.\\n    You final objective is to fill the values for the different keys (\\'Genres\\',\\'Author\\',\\'Description\\',\\'Rating\\') in the python dictionary and be confident of the values.\\n    These key value pairs define the user\\'s profile.\\n    The python dictionary looks like this\\n    {\\'Genres\\': [\\'values\\'],\\'Author\\': \\'values\\',\\'Description\\': \\'values\\',\\'Rating\\': \\'values\\'}\\n    The value for \\'Rating\\' should include a numerical value extracted from the user\\'s response , it can also include with less than or greater than or absolute value as well.\\n    The values of \\'Description\\' should include users preferrence based on provided Genres values, as stated by user.\\n    All the values in the example dictionary are only representative values.\\n    ####\\n    Here are some instructions around the values for the different keys. If you do not follow this, you\\'ll be heavily penalised:\\n    - The values for \\'Genres\\' should have atlest one or more Genress given as input by users and format it into comma seperated list\\n    - The values for \\'Author\\' can be optional but do ask the user for thier preference, it\\'s ok if author is not provided.\\n    - The value for \\'Description\\' should be a short description of what user is looking for\\n    - The value for \\'Rating\\' should include a numerical value extracted from the user\\'s response , it can also include with less than or greater than or absolute value as well..\\n    - \\'Rating\\' value needs to be between 1 and 5 and user input can say \\'greater than a certain number\\'. The value can also be fraction value between 1 and 5. If the user says less than 0 or greater than 5, please mention that they need to provide value in given range.\\n    - Do not randomly assign values to any of the keys.\\n    - The values need to be inferred from the user\\'s response.\\n    ####\\n\\n    To fill the dictionary, you need to have the following chain of thoughts:\\n    Follow the chain-of-thoughts below and only output the final updated python dictionary for the keys as described in {\\'Genres\\': [\\'_\\'], \\'Author\\': \\'_\\', \\'Description\\': \\'_\\', \\'Rating\\': \\'_\\'}. \\n\\n    ####\\n    Thought 1: Ask a question to understand the user\\'s profile and requirements. \\n\\n    If their Genres or short description of the book is unclear. Ask followup questions to understand their and gather proper Genres.\\n    You are trying to fill the values of all the keys {\\'Genres\\',\\'Author\\',\\'Description\\',\\'Rating\\'} in the python dictionary by understanding the user requirements.\\n    Identify the keys for which you can fill the values confidently using the understanding. \\n\\n    Remember the instructions around the values for the different keys.\\n    If the necessary information has been extracted, only then proceed to the next step. \\n\\n    Otherwise, rephrase the question to capture their profile or interest clearly. \\n\\n\\n    ####\\n    Thought 2: Now, you are trying to fill the values for the rest of the keys which you couldn\\'t in the previous step.\\n    Remember the instructions around the values for the different keys.\\n    Ask questions you might have for all the keys to strengthen your understanding of the user\\'s profile or interest.\\n    If yes, move to the next Thought. If no, ask question on the keys whose values you are unsure of. \\n\\n    It is a good practice to ask question with a sound logic as opposed to directly citing the key you want to understand value for.\\n    ####\\n\\n    ####\\n    Thought 3: Check if you have correctly updated the values for the different keys in the python dictionary.\\n    If you are not confident about any of the values, ask clarifying questions.\\n    ####\\n\\n    ####\\n    Here is a sample conversation between the user and assistant:\\n    User: \"Hi, I like fiction.\"\\n    Assistant: \"Great! As an fiction reader, you like books that transport you to different worlds, times, and experiences, offering a delightful escape from reality. May I know if you have any preferred authors? Do you preferrer any theme within fiction? Understanding the theme or preferences will help me tailor my recommendations accordingly. Let me know if my understanding is correct until now.\"\\n    User: \"I read works of J.K.Rowling and similar.\"\\n    Assistant: \"Tell about the kind of stories you love, to help you discover your next favorite book. Whether you\\'re in the mood for a gripping thriller, a tender romance, or a fantastical adventure\"\\n    User: \"Yes, I\\'m in the mood for gripping thriller.\"\\n    Assistant:\"Thank you for the information. Could you kindly let me know what rating are you looking for the recommended books? This will help me find options that fit within your range and I might be able to find good book in rating range while meeting the specified requirements as well.\"\\n    User: \"my rating is greater than 3.5\"\\n    Assistant: \"{\\'Genres\\': [\\'Fantasy\\', \\'Classic\\'], \\'Author\\': \\'J.K.Rowling\\', \\'Description\\': \\'something involving castles\\', \\'Rating\\': \\'greater than 3.5\\'}\"\\n    ####\\n\\n    Start with a short welcome message and encourage the user to share their requirements.\\n    '},\n",
       " {'role': 'user',\n",
       "  'content': 'Hi, I am Mahalakshmi. I need a book from classic and non-fiction Genres.'}]"
      ]
     },
     "metadata": {},
     "output_type": "display_data"
    }
   ],
   "source": [
    "# Let's look at the debug_conversation list\n",
    "display(debug_conversation)"
   ]
  },
  {
   "cell_type": "code",
   "execution_count": 69,
   "id": "fdd0a9ed",
   "metadata": {
    "colab": {
     "base_uri": "https://localhost:8080/",
     "height": 91
    },
    "id": "fdd0a9ed",
    "outputId": "34350d31-f37a-4f36-aa7c-99c186717376"
   },
   "outputs": [
    {
     "data": {
      "text/plain": [
       "'Great! Fantasy and fiction genres offer a wide range of imaginative and captivating stories. Do you have any preferred authors in mind or any specific themes within these genres that you enjoy? Understanding your preferences will help me tailor my recommendations accordingly. Let me know if my understanding is correct until now.'"
      ]
     },
     "metadata": {},
     "output_type": "display_data"
    }
   ],
   "source": [
    "#Test example\n",
    "# Getting the response from the Assistant by passing the conversation to the Chat Completions API\n",
    "# debug_response_assistant = get_chat_completions(debug_conversation)\n",
    "# display(debug_response_assistant)"
   ]
  },
  {
   "cell_type": "code",
   "execution_count": 200,
   "id": "4f6a2533-2096-49b6-a4f9-ef7adc4f17ac",
   "metadata": {},
   "outputs": [
    {
     "data": {
      "text/plain": [
       "'Great! As a reader who enjoys classic and non-fiction genres, you appreciate timeless literary works and factual narratives that expand your knowledge and understanding of the world. Could you please provide me with more details about your preferences within these genres? Do you have any favorite authors in mind or specific themes that you are interested in classic and non-fiction books? Understanding your preferences will allow me to tailor my recommendations effectively.'"
      ]
     },
     "metadata": {},
     "output_type": "display_data"
    }
   ],
   "source": [
    "# Getting the response from the Assistant by passing the conversation to the Chat Completions API\n",
    "debug_response_assistant = get_chat_completions(debug_conversation)\n",
    "display(debug_response_assistant)"
   ]
  },
  {
   "cell_type": "markdown",
   "id": "7dca90c2",
   "metadata": {
    "id": "7dca90c2"
   },
   "source": [
    "Let's play around a bit and add the following user's input `debug_user_input` to the conversation `debug_conversation` and see what the assistant responds with."
   ]
  },
  {
   "cell_type": "code",
   "execution_count": 201,
   "id": "kN2nZh_dkT2v",
   "metadata": {
    "colab": {
     "base_uri": "https://localhost:8080/"
    },
    "id": "kN2nZh_dkT2v",
    "outputId": "b6e2754d-05be-4f54-af80-33f964f109f7"
   },
   "outputs": [
    {
     "data": {
      "text/plain": [
       "[{'role': 'system',\n",
       "  'content': '\\n    You are an intelligent book recommendation expert and your goal is to find the best book for a user.\\n    You need to ask relevant questions and understand the user interest  by analysing the user\\'s interest in Genress.\\n    You final objective is to fill the values for the different keys (\\'Genres\\',\\'Author\\',\\'Description\\',\\'Rating\\') in the python dictionary and be confident of the values.\\n    These key value pairs define the user\\'s profile.\\n    The python dictionary looks like this\\n    {\\'Genres\\': [\\'values\\'],\\'Author\\': \\'values\\',\\'Description\\': \\'values\\',\\'Rating\\': \\'values\\'}\\n    The value for \\'Rating\\' should include a numerical value extracted from the user\\'s response , it can also include with less than or greater than or absolute value as well.\\n    The values of \\'Description\\' should include users preferrence based on provided Genres values, as stated by user.\\n    All the values in the example dictionary are only representative values.\\n    ####\\n    Here are some instructions around the values for the different keys. If you do not follow this, you\\'ll be heavily penalised:\\n    - The values for \\'Genres\\' should have atlest one or more Genress given as input by users and format it into comma seperated list\\n    - The values for \\'Author\\' can be optional but do ask the user for thier preference, it\\'s ok if author is not provided.\\n    - The value for \\'Description\\' should be a short description of what user is looking for\\n    - The value for \\'Rating\\' should include a numerical value extracted from the user\\'s response , it can also include with less than or greater than or absolute value as well..\\n    - \\'Rating\\' value needs to be between 1 and 5 and user input can say \\'greater than a certain number\\'. The value can also be fraction value between 1 and 5. If the user says less than 0 or greater than 5, please mention that they need to provide value in given range.\\n    - Do not randomly assign values to any of the keys.\\n    - The values need to be inferred from the user\\'s response.\\n    ####\\n\\n    To fill the dictionary, you need to have the following chain of thoughts:\\n    Follow the chain-of-thoughts below and only output the final updated python dictionary for the keys as described in {\\'Genres\\': [\\'_\\'], \\'Author\\': \\'_\\', \\'Description\\': \\'_\\', \\'Rating\\': \\'_\\'}. \\n\\n    ####\\n    Thought 1: Ask a question to understand the user\\'s profile and requirements. \\n\\n    If their Genres or short description of the book is unclear. Ask followup questions to understand their and gather proper Genres.\\n    You are trying to fill the values of all the keys {\\'Genres\\',\\'Author\\',\\'Description\\',\\'Rating\\'} in the python dictionary by understanding the user requirements.\\n    Identify the keys for which you can fill the values confidently using the understanding. \\n\\n    Remember the instructions around the values for the different keys.\\n    If the necessary information has been extracted, only then proceed to the next step. \\n\\n    Otherwise, rephrase the question to capture their profile or interest clearly. \\n\\n\\n    ####\\n    Thought 2: Now, you are trying to fill the values for the rest of the keys which you couldn\\'t in the previous step.\\n    Remember the instructions around the values for the different keys.\\n    Ask questions you might have for all the keys to strengthen your understanding of the user\\'s profile or interest.\\n    If yes, move to the next Thought. If no, ask question on the keys whose values you are unsure of. \\n\\n    It is a good practice to ask question with a sound logic as opposed to directly citing the key you want to understand value for.\\n    ####\\n\\n    ####\\n    Thought 3: Check if you have correctly updated the values for the different keys in the python dictionary.\\n    If you are not confident about any of the values, ask clarifying questions.\\n    ####\\n\\n    ####\\n    Here is a sample conversation between the user and assistant:\\n    User: \"Hi, I like fiction.\"\\n    Assistant: \"Great! As an fiction reader, you like books that transport you to different worlds, times, and experiences, offering a delightful escape from reality. May I know if you have any preferred authors? Do you preferrer any theme within fiction? Understanding the theme or preferences will help me tailor my recommendations accordingly. Let me know if my understanding is correct until now.\"\\n    User: \"I read works of J.K.Rowling and similar.\"\\n    Assistant: \"Tell about the kind of stories you love, to help you discover your next favorite book. Whether you\\'re in the mood for a gripping thriller, a tender romance, or a fantastical adventure\"\\n    User: \"Yes, I\\'m in the mood for gripping thriller.\"\\n    Assistant:\"Thank you for the information. Could you kindly let me know what rating are you looking for the recommended books? This will help me find options that fit within your range and I might be able to find good book in rating range while meeting the specified requirements as well.\"\\n    User: \"my rating is greater than 3.5\"\\n    Assistant: \"{\\'Genres\\': [\\'Fantasy\\', \\'Classic\\'], \\'Author\\': \\'J.K.Rowling\\', \\'Description\\': \\'something involving castles\\', \\'Rating\\': \\'greater than 3.5\\'}\"\\n    ####\\n\\n    Start with a short welcome message and encourage the user to share their requirements.\\n    '},\n",
       " {'role': 'user',\n",
       "  'content': 'Hi, I am Mahalakshmi. I need a book from classic and non-fiction Genres.'},\n",
       " {'role': 'system',\n",
       "  'content': 'Great! As a reader who enjoys classic and non-fiction genres, you appreciate timeless literary works and factual narratives that expand your knowledge and understanding of the world. Could you please provide me with more details about your preferences within these genres? Do you have any favorite authors in mind or specific themes that you are interested in classic and non-fiction books? Understanding your preferences will allow me to tailor my recommendations effectively.'}]"
      ]
     },
     "execution_count": 201,
     "metadata": {},
     "output_type": "execute_result"
    }
   ],
   "source": [
    "# Let's append this to the conversation list\n",
    "debug_conversation.append(({\"role\": \"system\", \"content\": debug_response_assistant}))\n",
    "debug_conversation"
   ]
  },
  {
   "cell_type": "markdown",
   "id": "389ae50b",
   "metadata": {
    "id": "389ae50b"
   },
   "source": [
    "Typically, whenever the chatbot is interacting with the user, all the conversations should be moderated to identify any inappropriate content. Let's look at the function that can help with it."
   ]
  },
  {
   "cell_type": "markdown",
   "id": "5cc13511",
   "metadata": {
    "id": "5cc13511"
   },
   "source": [
    "### `moderation_check()`:\n",
    " This checks if the user's or the assistant's message is inappropriate. If any of these is inappropriate, you can add a break statement to end the conversation."
   ]
  },
  {
   "cell_type": "code",
   "execution_count": 202,
   "id": "e5c799b4",
   "metadata": {
    "id": "e5c799b4"
   },
   "outputs": [],
   "source": [
    "# Define a function called moderation_check that takes user_input as a parameter.\n",
    "\n",
    "def moderation_check(user_input):\n",
    "    # Call the OpenAI API to perform moderation on the user's input.\n",
    "    response = openai.moderations.create(input=user_input)\n",
    "\n",
    "    # Extract the moderation result from the API response.\n",
    "    moderation_output = response.results[0].flagged\n",
    "    # Check if the input was flagged by the moderation system.\n",
    "    if response.results[0].flagged == True:\n",
    "        # If flagged, return \"Flagged\"\n",
    "        return \"Flagged\"\n",
    "    else:\n",
    "        # If not flagged, return \"Not Flagged\"\n",
    "        return \"Not Flagged\""
   ]
  },
  {
   "cell_type": "code",
   "execution_count": 83,
   "id": "67uPavgXgry4",
   "metadata": {
    "colab": {
     "base_uri": "https://localhost:8080/",
     "height": 36
    },
    "id": "67uPavgXgry4",
    "outputId": "4992120b-c3de-4ceb-be1b-6389798c1672"
   },
   "outputs": [
    {
     "data": {
      "text/plain": [
       "'Flagged'"
      ]
     },
     "execution_count": 83,
     "metadata": {},
     "output_type": "execute_result"
    }
   ],
   "source": [
    "moderation_check(\"I want to kill them.\")"
   ]
  },
  {
   "cell_type": "markdown",
   "id": "8c9225ae",
   "metadata": {
    "id": "8c9225ae"
   },
   "source": [
    "Let's test moderation on the `debug_user_input`"
   ]
  },
  {
   "cell_type": "code",
   "execution_count": 84,
   "id": "86d12659",
   "metadata": {
    "colab": {
     "base_uri": "https://localhost:8080/"
    },
    "id": "86d12659",
    "outputId": "565336b9-b460-456c-950f-56ebb955f0aa"
   },
   "outputs": [
    {
     "name": "stdout",
     "output_type": "stream",
     "text": [
      "Not Flagged\n"
     ]
    }
   ],
   "source": [
    "debug_moderation = moderation_check(debug_user_input)\n",
    "print(debug_moderation)"
   ]
  },
  {
   "cell_type": "markdown",
   "id": "6c6d2f2b",
   "metadata": {
    "id": "6c6d2f2b"
   },
   "source": [
    "So, this moderation api may not be perfect but if you ask this to the ChatGPT or it's API (GPT 3.5), it'll not help you with such requests. Remember, moderation should also be applied on the GPT 3.5's output."
   ]
  },
  {
   "cell_type": "markdown",
   "id": "ececb22e",
   "metadata": {
    "id": "ececb22e"
   },
   "source": [
    "Let's now check moderation on the assistant's response `debug_response_assistant`."
   ]
  },
  {
   "cell_type": "code",
   "execution_count": null,
   "id": "e289d1c1",
   "metadata": {
    "colab": {
     "base_uri": "https://localhost:8080/",
     "height": 36
    },
    "id": "e289d1c1",
    "outputId": "4c4c2b08-5966-411e-e9e1-8462bf008752"
   },
   "outputs": [],
   "source": [
    "moderation_check(debug_response_assistant)"
   ]
  },
  {
   "cell_type": "markdown",
   "id": "6a47575a",
   "metadata": {
    "id": "6a47575a"
   },
   "source": [
    "As mentioned earlier, you need to understand the user's profile, which essentially means that all the features: Genres, Author, Description, Rating are captured or not. Let's look at the function that helps us verify that."
   ]
  },
  {
   "cell_type": "markdown",
   "id": "543bca28",
   "metadata": {
    "id": "543bca28"
   },
   "source": [
    "### `intent_confirmation_layer()`:\n",
    "\n",
    "This function takes the assistant's response and evaluates if the chatbot has captured the user's profile clearly. Specifically, this checks if the following properties for the user has been captured or not\n",
    "   - Genres\n",
    "   - Author(optional)\n",
    "   - Description\n",
    "   - Rating"
   ]
  },
  {
   "cell_type": "markdown",
   "id": "-3MoEBBhRDpr",
   "metadata": {
    "id": "-3MoEBBhRDpr"
   },
   "source": [
    "\n",
    "\n",
    "```\n",
    "def intent_confirmation_layer(response_assistant):\n",
    "    \"\"\"\n",
    "    This function serves as an intent confirmation layer for a laptop recommendation system using OpenAI LLM API.\n",
    "\n",
    "    Parameters:\n",
    "    - response_assistant (str): The input text containing user requirements captured through 6 keys:\n",
    "        'GPU intensity', 'Display quality', 'Portability', 'Multitasking', 'Processing speed', and 'Budget'.\n",
    "\n",
    "    Returns:\n",
    "    - str: A one-word string in JSON format indicating if the values for the specified keys are correctly filled.\n",
    "        - 'Yes' if the values are correctly filled for all keys ('GPU intensity', 'Display quality', 'Portability',\n",
    "          'Multitasking', 'Processing speed') based on the importance as stated by the user.\n",
    "        - 'No' otherwise.\n",
    "\n",
    "    Note:\n",
    "    - The values for all keys, except 'Budget', should be 'low', 'medium', or 'high' based on their importance as stated by the user.\n",
    "    - The input text should be structured such that it contains the necessary keys and their corresponding values.\n",
    "    - The function uses OpenAI's Chat Completion API to evaluate the correctness of the input values.\n",
    "    \"\"\"\n",
    "```\n",
    "\n"
   ]
  },
  {
   "cell_type": "code",
   "execution_count": 203,
   "id": "w1o5KuBeONhF",
   "metadata": {
    "id": "w1o5KuBeONhF"
   },
   "outputs": [],
   "source": [
    "def intent_confirmation_layer(response_assistant):\n",
    "\n",
    "    delimiter = \"####\"\n",
    "\n",
    "    # allowed_values = {'low','medium','high'}\n",
    "\n",
    "    # The values for 'Genres' should have atlest one or more Genress given as input by users\n",
    "    # - The values for 'Author' can be optional but do ask the user for thier preference, it's ok if author is not provided.\n",
    "    # - The value for 'Description' should be a short description of what user is looking for\n",
    "    # - The value for 'Rating' should be a numerical value extracted from the user's response.\n",
    "    # - 'Rating' value needs to be between 1 and 5 and user input can say 'greater than a certain number'. The value can also be fraction value between 1 and 5. If the user says less than 0 or greater than 5, please mention that they need to provide value in given range.\n",
    "\n",
    "    \n",
    "    prompt = f\"\"\"\n",
    "    You are a senior evaluator who has an eye for detail.The input text will contain a user requirement captured through 3 or 4 keys.\n",
    "    You are provided an input. You need to evaluate if the input text has the following keys'Author' being optional:\n",
    "    {{\n",
    "    'Genres': ['values'],\n",
    "    'Author':'values',\n",
    "    'Description':'values',\n",
    "    'Rating':'values'\n",
    "    }}\n",
    "    The values for the 'Description' should have short description of user interest\n",
    "    The 'Rating' key can take a numerical value along with key words like greater than or less tham.\n",
    "    Next you need to evaluate if the keys have the the values filled correctly.\n",
    "    Only output a one-word string in JSON format at the key 'result' - Yes/No.\n",
    "    Thought 1 - Output a string 'Yes' if the values are correctly filled for all keys, otherwise output 'No'.\n",
    "    Thought 2 - If the answer is No, mention the reason in the key 'reason'.\n",
    "    THought 3 - Think carefully before the answering.\n",
    "    \"\"\"\n",
    "\n",
    "    messages=[{\"role\": \"system\", \"content\":prompt },\n",
    "              {\"role\": \"user\", \"content\":f\"\"\"Here is the input: {response_assistant}\"\"\" }]\n",
    "\n",
    "    response = openai.chat.completions.create(\n",
    "                                    model=\"gpt-3.5-turbo\",\n",
    "                                    messages = messages,\n",
    "                                    response_format={ \"type\": \"json_object\" },\n",
    "                                    seed = 1234\n",
    "                                    # n = 5\n",
    "                                    )\n",
    "\n",
    "    json_output = json.loads(response.choices[0].message.content)\n",
    "\n",
    "    return json_output"
   ]
  },
  {
   "cell_type": "code",
   "execution_count": 88,
   "id": "26f1535d",
   "metadata": {
    "id": "26f1535d"
   },
   "outputs": [],
   "source": [
    "# Here are some sample input output pairs for better understanding:\n",
    "# {delimiter}\n",
    "# input: \"{{'GPU intensity': 'low', 'Display quality': 'high', 'Portability': 'low', 'Multitasking': 'high', 'Processing speed': 'low'}}\"\n",
    "# output: No\n",
    "\n",
    "# input: \"{{'GPU intensity': 'low', 'Display quality': 'high', 'Portability': 'low', 'Multitasking': 'high', 'Processing speed': '', 'Budget': '90000'}}\"\n",
    "# output: No\n",
    "\n",
    "# input: \"Here is your user profile 'GPU intensity': 'high','Display quality': 'high','Portability': 'medium','Multitasking': 'low','Processing speed': 'high','Budget': '200000'\"\n",
    "# output: Yes\n",
    "\n",
    "# input: \"Here is your recommendation {{'GPU intensity': 'low', 'Display quality': 'high', 'Portability': 'low', 'Multitasking': 'high', 'Processing speed': 'low', 'Budget': '90000'}}\"\n",
    "# output: Yes\n",
    "\n",
    "# input: \"Here is your recommendation - 'GPU intensity': 'high' - 'Display quality': 'low' - 'Portability': 'low'  - 'Multitasking': 'high' - 'Processing speed': 'high' - 'Budget': '90000' \"\n",
    "# output: Yes\n",
    "\n",
    "# input: \"You can look at this - GPU intensity: high - Display quality: low - Portability: low  - Multitasking: high - Processing speed: high - Budget: 90000\"\n",
    "# output: Yes\n",
    "\n",
    "# input: \"{{GPU intensity: low, Display quality: high, Portability: low, Multitasking:high,Processing speed: Low, Budget: 70000}}\"\n",
    "# output: No\n",
    "\n",
    "# {delimiter}"
   ]
  },
  {
   "cell_type": "markdown",
   "id": "356fc469",
   "metadata": {
    "id": "356fc469"
   },
   "source": [
    "Let's apply the function to the assistant's reponse and see if it has captured the user profile."
   ]
  },
  {
   "cell_type": "code",
   "execution_count": 204,
   "id": "TbsoK64ZXnDZ",
   "metadata": {
    "colab": {
     "base_uri": "https://localhost:8080/",
     "height": 91
    },
    "id": "TbsoK64ZXnDZ",
    "outputId": "86190e98-f90c-4c65-99be-4e2e21f4473a"
   },
   "outputs": [
    {
     "data": {
      "text/plain": [
       "'Great! As a reader who enjoys classic and non-fiction genres, you appreciate timeless literary works and factual narratives that expand your knowledge and understanding of the world. Could you please provide me with more details about your preferences within these genres? Do you have any favorite authors in mind or specific themes that you are interested in classic and non-fiction books? Understanding your preferences will allow me to tailor my recommendations effectively.'"
      ]
     },
     "execution_count": 204,
     "metadata": {},
     "output_type": "execute_result"
    }
   ],
   "source": [
    "debug_response_assistant"
   ]
  },
  {
   "cell_type": "code",
   "execution_count": 205,
   "id": "89031a63",
   "metadata": {
    "colab": {
     "base_uri": "https://localhost:8080/",
     "height": 72
    },
    "id": "89031a63",
    "outputId": "bb7b1532-e5a6-45f7-95ac-ef7ac5d9f92c"
   },
   "outputs": [
    {
     "data": {
      "text/plain": [
       "{'result': 'No', 'reason': 'Missing keys Genres, Rating, Description'}"
      ]
     },
     "metadata": {},
     "output_type": "display_data"
    }
   ],
   "source": [
    "debug_confirmation = intent_confirmation_layer(debug_response_assistant)\n",
    "display(debug_confirmation)"
   ]
  },
  {
   "cell_type": "code",
   "execution_count": 206,
   "id": "ODyge0F8puJJ",
   "metadata": {
    "colab": {
     "base_uri": "https://localhost:8080/"
    },
    "id": "ODyge0F8puJJ",
    "outputId": "e5ee2b5b-9ad0-4115-f8c6-200a26b3f6a2"
   },
   "outputs": [
    {
     "name": "stdout",
     "output_type": "stream",
     "text": [
      "Result: No \t Reason: Missing keys Genres, Rating, Description\n"
     ]
    }
   ],
   "source": [
    "# Printing the value for better clarity\n",
    "print(\"Result:\",debug_confirmation.get('result'),\"\\t\", \"Reason:\", debug_confirmation.get('reason'))"
   ]
  },
  {
   "cell_type": "markdown",
   "id": "4fc34f79",
   "metadata": {
    "id": "4fc34f79"
   },
   "source": [
    "#### Inference: We can confirm that this layer is working fine since Author key is defined as an optinal key and in the reason from confirmation layer it's not listed as missing key.\n",
    "\n",
    "Now, you can keep adding user and assistant responses to debug_conversation and get to a point where intent_confirmation_layer() gives yes as a response. Let's see if the following response by the assistant passes the intent_confirmation_layer() test."
   ]
  },
  {
   "cell_type": "code",
   "execution_count": 207,
   "id": "ef807cad",
   "metadata": {
    "id": "ef807cad"
   },
   "outputs": [],
   "source": [
    "#Let's add the above assistant response to the debug_conversation.\n",
    "debug_conversation.append({\"role\": \"assistant\", \"content\": debug_response_assistant})"
   ]
  },
  {
   "cell_type": "code",
   "execution_count": 208,
   "id": "PIN620N722gd",
   "metadata": {
    "colab": {
     "base_uri": "https://localhost:8080/"
    },
    "id": "PIN620N722gd",
    "outputId": "b5c540f0-505b-4fe6-97e2-c31601220b38"
   },
   "outputs": [
    {
     "data": {
      "text/plain": [
       "[{'role': 'system',\n",
       "  'content': '\\n    You are an intelligent book recommendation expert and your goal is to find the best book for a user.\\n    You need to ask relevant questions and understand the user interest  by analysing the user\\'s interest in Genress.\\n    You final objective is to fill the values for the different keys (\\'Genres\\',\\'Author\\',\\'Description\\',\\'Rating\\') in the python dictionary and be confident of the values.\\n    These key value pairs define the user\\'s profile.\\n    The python dictionary looks like this\\n    {\\'Genres\\': [\\'values\\'],\\'Author\\': \\'values\\',\\'Description\\': \\'values\\',\\'Rating\\': \\'values\\'}\\n    The value for \\'Rating\\' should include a numerical value extracted from the user\\'s response , it can also include with less than or greater than or absolute value as well.\\n    The values of \\'Description\\' should include users preferrence based on provided Genres values, as stated by user.\\n    All the values in the example dictionary are only representative values.\\n    ####\\n    Here are some instructions around the values for the different keys. If you do not follow this, you\\'ll be heavily penalised:\\n    - The values for \\'Genres\\' should have atlest one or more Genress given as input by users and format it into comma seperated list\\n    - The values for \\'Author\\' can be optional but do ask the user for thier preference, it\\'s ok if author is not provided.\\n    - The value for \\'Description\\' should be a short description of what user is looking for\\n    - The value for \\'Rating\\' should include a numerical value extracted from the user\\'s response , it can also include with less than or greater than or absolute value as well..\\n    - \\'Rating\\' value needs to be between 1 and 5 and user input can say \\'greater than a certain number\\'. The value can also be fraction value between 1 and 5. If the user says less than 0 or greater than 5, please mention that they need to provide value in given range.\\n    - Do not randomly assign values to any of the keys.\\n    - The values need to be inferred from the user\\'s response.\\n    ####\\n\\n    To fill the dictionary, you need to have the following chain of thoughts:\\n    Follow the chain-of-thoughts below and only output the final updated python dictionary for the keys as described in {\\'Genres\\': [\\'_\\'], \\'Author\\': \\'_\\', \\'Description\\': \\'_\\', \\'Rating\\': \\'_\\'}. \\n\\n    ####\\n    Thought 1: Ask a question to understand the user\\'s profile and requirements. \\n\\n    If their Genres or short description of the book is unclear. Ask followup questions to understand their and gather proper Genres.\\n    You are trying to fill the values of all the keys {\\'Genres\\',\\'Author\\',\\'Description\\',\\'Rating\\'} in the python dictionary by understanding the user requirements.\\n    Identify the keys for which you can fill the values confidently using the understanding. \\n\\n    Remember the instructions around the values for the different keys.\\n    If the necessary information has been extracted, only then proceed to the next step. \\n\\n    Otherwise, rephrase the question to capture their profile or interest clearly. \\n\\n\\n    ####\\n    Thought 2: Now, you are trying to fill the values for the rest of the keys which you couldn\\'t in the previous step.\\n    Remember the instructions around the values for the different keys.\\n    Ask questions you might have for all the keys to strengthen your understanding of the user\\'s profile or interest.\\n    If yes, move to the next Thought. If no, ask question on the keys whose values you are unsure of. \\n\\n    It is a good practice to ask question with a sound logic as opposed to directly citing the key you want to understand value for.\\n    ####\\n\\n    ####\\n    Thought 3: Check if you have correctly updated the values for the different keys in the python dictionary.\\n    If you are not confident about any of the values, ask clarifying questions.\\n    ####\\n\\n    ####\\n    Here is a sample conversation between the user and assistant:\\n    User: \"Hi, I like fiction.\"\\n    Assistant: \"Great! As an fiction reader, you like books that transport you to different worlds, times, and experiences, offering a delightful escape from reality. May I know if you have any preferred authors? Do you preferrer any theme within fiction? Understanding the theme or preferences will help me tailor my recommendations accordingly. Let me know if my understanding is correct until now.\"\\n    User: \"I read works of J.K.Rowling and similar.\"\\n    Assistant: \"Tell about the kind of stories you love, to help you discover your next favorite book. Whether you\\'re in the mood for a gripping thriller, a tender romance, or a fantastical adventure\"\\n    User: \"Yes, I\\'m in the mood for gripping thriller.\"\\n    Assistant:\"Thank you for the information. Could you kindly let me know what rating are you looking for the recommended books? This will help me find options that fit within your range and I might be able to find good book in rating range while meeting the specified requirements as well.\"\\n    User: \"my rating is greater than 3.5\"\\n    Assistant: \"{\\'Genres\\': [\\'Fantasy\\', \\'Classic\\'], \\'Author\\': \\'J.K.Rowling\\', \\'Description\\': \\'something involving castles\\', \\'Rating\\': \\'greater than 3.5\\'}\"\\n    ####\\n\\n    Start with a short welcome message and encourage the user to share their requirements.\\n    '},\n",
       " {'role': 'user',\n",
       "  'content': 'Hi, I am Mahalakshmi. I need a book from classic and non-fiction Genres.'},\n",
       " {'role': 'system',\n",
       "  'content': 'Great! As a reader who enjoys classic and non-fiction genres, you appreciate timeless literary works and factual narratives that expand your knowledge and understanding of the world. Could you please provide me with more details about your preferences within these genres? Do you have any favorite authors in mind or specific themes that you are interested in classic and non-fiction books? Understanding your preferences will allow me to tailor my recommendations effectively.'},\n",
       " {'role': 'assistant',\n",
       "  'content': 'Great! As a reader who enjoys classic and non-fiction genres, you appreciate timeless literary works and factual narratives that expand your knowledge and understanding of the world. Could you please provide me with more details about your preferences within these genres? Do you have any favorite authors in mind or specific themes that you are interested in classic and non-fiction books? Understanding your preferences will allow me to tailor my recommendations effectively.'}]"
      ]
     },
     "execution_count": 208,
     "metadata": {},
     "output_type": "execute_result"
    }
   ],
   "source": [
    "debug_conversation"
   ]
  },
  {
   "cell_type": "markdown",
   "id": "e05526d0",
   "metadata": {
    "id": "e05526d0"
   },
   "source": [
    "Let's say that after a series of conversations you get the following response from the assistant."
   ]
  },
  {
   "cell_type": "code",
   "execution_count": null,
   "id": "5a744f8f",
   "metadata": {
    "colab": {
     "base_uri": "https://localhost:8080/"
    },
    "id": "5a744f8f",
    "outputId": "65398107-2bfa-48c7-f9aa-46acb66a608d"
   },
   "outputs": [],
   "source": [
    "# # Example 1 - Let's check with the confirmation_layer if all the keys are present\n",
    "# debug_response_assistant_1 = f\"\"\"\n",
    "# Great, thank you for clarifying your requirements.\n",
    "# Based on your inputs, here is the final profile for the laptop you are looking for:\n",
    "# {{'GPU intensity':'high',\n",
    "#  'Display quality':'high',\n",
    "#  'Portability':'low',\n",
    "#  'Multitasking':'low',\n",
    "#  'Processing speed':'low',\n",
    "#  'Budget':'50000 INR'}}\n",
    "# \"\"\"\n",
    "# #Note that you are using double curly braces\n",
    "\n",
    "# print(debug_response_assistant_1)"
   ]
  },
  {
   "cell_type": "markdown",
   "id": "f7f909ea",
   "metadata": {
    "id": "f7f909ea"
   },
   "source": [
    "<!-- Do you think it'll pass the `intent_confirmation_layer()` test?\n",
    "\n",
    " Let's try it out. -->"
   ]
  },
  {
   "cell_type": "code",
   "execution_count": null,
   "id": "lJjze8xQf8_S",
   "metadata": {
    "colab": {
     "base_uri": "https://localhost:8080/",
     "height": 36
    },
    "id": "lJjze8xQf8_S",
    "outputId": "9eb66c86-017a-4874-eff3-999adde03e00"
   },
   "outputs": [],
   "source": [
    "# response = intent_confirmation_layer(debug_response_assistant_1)\n",
    "# response.get('result') # Extract the result key from the dictionary"
   ]
  },
  {
   "cell_type": "code",
   "execution_count": null,
   "id": "BS0_vM3ok-t-",
   "metadata": {
    "colab": {
     "base_uri": "https://localhost:8080/"
    },
    "id": "BS0_vM3ok-t-",
    "outputId": "2df50c6d-b981-4f46-f24b-17b2b81d8ed7"
   },
   "outputs": [],
   "source": [
    "# # Example 2 - Let's check confirmation_layer if all the keys are present\n",
    "# debug_response_assistant_2 = f\"\"\"\n",
    "# Great, thank you for clarifying your requirements.\n",
    "# Based on your inputs, here is the final profile for the laptop you are looking for:\n",
    "# {{'GPU intensity':'high',\n",
    "#  'Display quality':'high',\n",
    "#  'Portability':'low',\n",
    "#  'Multitasking':'low',\n",
    "#  'Processing speed':'low'}}\n",
    "# \"\"\"\n",
    "# #Note that you are using double curly braces\n",
    "\n",
    "# print(debug_response_assistant_2)"
   ]
  },
  {
   "cell_type": "code",
   "execution_count": null,
   "id": "_9qbx_XLlAY9",
   "metadata": {
    "colab": {
     "base_uri": "https://localhost:8080/"
    },
    "id": "_9qbx_XLlAY9",
    "outputId": "c4848e6a-504f-4f43-beed-bce02328d1fc"
   },
   "outputs": [],
   "source": [
    "# intent_confirmation_layer(debug_response_assistant_2)\n",
    "# # iterate_llm_response(intent_confirmation_layer, debug_response_assistant_2)"
   ]
  },
  {
   "cell_type": "code",
   "execution_count": null,
   "id": "sFl2vRm0oYet",
   "metadata": {
    "colab": {
     "base_uri": "https://localhost:8080/"
    },
    "id": "sFl2vRm0oYet",
    "outputId": "baa0b508-2782-49c1-b255-15d677999f91"
   },
   "outputs": [],
   "source": [
    "# # Example 3 - Let's check confirmation_layer if all the keys are present\n",
    "# debug_response_assistant_3 = f\"\"\"\n",
    "# Great, thank you for clarifying your requirements.\n",
    "# Based on your inputs, here is the final profile for the laptop you are looking for:\n",
    "# {{'GPU intensity':'high',\n",
    "#  'Display quality':'high',\n",
    "#  'Portability':'low',\n",
    "#  'Multitasking':'low',\n",
    "#  'Processing speed':'low',\n",
    "#  'Budget':'50000'}}\n",
    "# \"\"\"\n",
    "# #Note that you are using double curly braces\n",
    "\n",
    "# print(debug_response_assistant_3)"
   ]
  },
  {
   "cell_type": "code",
   "execution_count": null,
   "id": "wA17-LWiohEP",
   "metadata": {
    "colab": {
     "base_uri": "https://localhost:8080/"
    },
    "id": "wA17-LWiohEP",
    "outputId": "53838ede-f844-4e0c-c805-cfbeb2bbcf09"
   },
   "outputs": [],
   "source": [
    "# intent_confirmation_layer(debug_response_assistant_3)\n",
    "# # iterate_llm_response(intent_confirmation_layer, debug_response_assistant_3)"
   ]
  },
  {
   "cell_type": "markdown",
   "id": "b570ff33",
   "metadata": {
    "id": "b570ff33"
   },
   "source": [
    "Let's now look at the working of `dictionary_present()`."
   ]
  },
  {
   "cell_type": "markdown",
   "id": "8941aef4",
   "metadata": {
    "id": "8941aef4"
   },
   "source": [
    "### `dictionary_present()`:\n",
    "\n",
    "This function checks if the final understanding of user's profile is returned by the chatbot is a Python dictionary or not. This is important as it'll be used later on for finding the right laptops using dictionary matching."
   ]
  },
  {
   "cell_type": "code",
   "execution_count": 210,
   "id": "KjZlut6U2p_e",
   "metadata": {
    "id": "KjZlut6U2p_e"
   },
   "outputs": [],
   "source": [
    "def dictionary_present(response):\n",
    "    delimiter = \"####\"\n",
    "\n",
    "    # user_req = {'GPU intensity': 'high',\n",
    "    #             'Display quality': 'high',\n",
    "    #             'Portability': 'medium',\n",
    "    #             'Multitasking': 'high',\n",
    "    #             'Processing speed': 'high',\n",
    "    #             'Budget': '200000'}\n",
    "    \n",
    "    user_req = {'Genres': ['Classic , Fiction'],\n",
    "                'Author':'J.K. rowling ',\n",
    "                'Description':'something involving castles',\n",
    "                'Rating':'greater than 3.5'\n",
    "                }\n",
    "    \n",
    "    \n",
    "\n",
    "    prompt = f\"\"\"You are a python expert. You are provided an input.\n",
    "            You have to check if there is a python dictionary present in the string.\n",
    "            It will have the following format {user_req}.\n",
    "            Your task is to just extract the relevant values from the input and return only the python dictionary in JSON format.\n",
    "            The output should match the format as {user_req}.\n",
    "\n",
    "            {delimiter}\n",
    "            Make sure that the value of rating is also present in the user input. ###\n",
    "            The output should contain the exact keys and values as present in the input.\n",
    "            Ensure the keys and values are in the given format:\n",
    "            {{\n",
    "            'Genres': ['values'],\n",
    "            'Author':'values',\n",
    "            'Description':'values',\n",
    "            'Rating':'values'\n",
    "            }}\n",
    "            Here are some sample input output pairs for better understanding:\n",
    "            {delimiter}\n",
    "            input 1: - Genres: Fiction - Author: J.K.Rowling - Description: something involving castles - Rating: greater than 3.5\n",
    "            output 1: {{'Genres': 'Fiction', 'Author': 'J.K.Rowling', 'Description': 'something involving castles', 'Rating': 'greater than 3.5'}}\n",
    "\n",
    "            input 2: - Genres: Motivational - Author:  - Description: book to motivate towards healthy life - Rating: greater than 3.5\n",
    "            output 2: {{'Genres': 'Motivational', 'Author': '', 'Description': 'book to motivate towards healthy life', 'Rating': 'greater than 3.5'}}\n",
    "\n",
    "            input 3: - Genres: Biography - Author:  - Description: biography of scientists - Rating: greater than 3.5\n",
    "            output 3: {{'Genres': 'Biography', 'Author': 'J.K.Rowling', 'Description': 'biography of scientists', 'Rating': 'greater than 3.5'}}\n",
    "            {delimiter}\n",
    "            \"\"\"\n",
    "    messages = [{\"role\": \"system\", \"content\":prompt },\n",
    "                {\"role\": \"user\", \"content\":f\"\"\"Here is the user input: {response}\"\"\" }]\n",
    "\n",
    "    confirmation = get_chat_completions(messages, json_format = True)\n",
    "\n",
    "    return confirmation"
   ]
  },
  {
   "cell_type": "markdown",
   "id": "01dd4ca1",
   "metadata": {
    "id": "01dd4ca1"
   },
   "source": [
    "Let's start by passing the `debug_response_assistant`."
   ]
  },
  {
   "cell_type": "code",
   "execution_count": 211,
   "id": "qhG-yoxqZ6g2",
   "metadata": {
    "id": "qhG-yoxqZ6g2"
   },
   "outputs": [],
   "source": [
    "debug_response_assistant_n = \"\"\"\n",
    "{'Genres': ['Classic , Fiction'],\n",
    "'Author':'J.K. rowling ',\n",
    "'Description':'something involving castles',\n",
    "'Rating':'greater than 3.5'\n",
    "}\n",
    "\"\"\""
   ]
  },
  {
   "cell_type": "code",
   "execution_count": 212,
   "id": "c9795d76",
   "metadata": {
    "colab": {
     "base_uri": "https://localhost:8080/",
     "height": 128
    },
    "id": "c9795d76",
    "outputId": "b7e52e5c-4900-41d6-a3e0-1267492d51cd"
   },
   "outputs": [
    {
     "data": {
      "text/plain": [
       "{'Genres': ['Classic , Fiction'],\n",
       " 'Author': 'J.K. rowling ',\n",
       " 'Description': 'something involving castles',\n",
       " 'Rating': 'greater than 3.5'}"
      ]
     },
     "metadata": {},
     "output_type": "display_data"
    }
   ],
   "source": [
    "response_dict_n = dictionary_present(debug_response_assistant_n)\n",
    "display(response_dict_n)"
   ]
  },
  {
   "cell_type": "code",
   "execution_count": 213,
   "id": "9j07XZONGBTN",
   "metadata": {
    "colab": {
     "base_uri": "https://localhost:8080/"
    },
    "id": "9j07XZONGBTN",
    "outputId": "578e7e53-5606-436d-ca01-af8e6b377357"
   },
   "outputs": [
    {
     "data": {
      "text/plain": [
       "dict"
      ]
     },
     "execution_count": 213,
     "metadata": {},
     "output_type": "execute_result"
    }
   ],
   "source": [
    "type(response_dict_n)"
   ]
  },
  {
   "cell_type": "markdown",
   "id": "95fe9455",
   "metadata": {
    "id": "95fe9455"
   },
   "source": [
    "What if you pass something like this where it is not in the form of a dictionary? Or some key or some values are missing? Let's see."
   ]
  },
  {
   "cell_type": "code",
   "execution_count": 214,
   "id": "706a8a28",
   "metadata": {
    "id": "706a8a28"
   },
   "outputs": [],
   "source": [
    "debug_response_assistant_n = f\"\"\"Thank you for providing your information.\n",
    "Based on your requirements  I will consider this while recommending suitable books options for you.\n",
    "Here is the final recommendation for your book/s:\n",
    "'Genres': 'Classic , Fiction',\n",
    "'Author':'J.K. rowling ',\n",
    "'Description':'something involving castles',\n",
    "'Rating':'greater than 3.5'\n",
    "\n",
    "\n",
    "Please note that these specifications are based on your requirements.\n",
    "Let me know if there's anything else I can assist you with!\"\"\""
   ]
  },
  {
   "cell_type": "code",
   "execution_count": 215,
   "id": "79a1d0f5",
   "metadata": {
    "colab": {
     "base_uri": "https://localhost:8080/",
     "height": 128
    },
    "id": "79a1d0f5",
    "outputId": "87368c3b-706b-4df3-febc-20db296cd495",
    "scrolled": true
   },
   "outputs": [
    {
     "data": {
      "text/plain": [
       "{'Genres': 'Classic , Fiction',\n",
       " 'Author': 'J.K. rowling ',\n",
       " 'Description': 'something involving castles',\n",
       " 'Rating': 'greater than 3.5'}"
      ]
     },
     "metadata": {},
     "output_type": "display_data"
    }
   ],
   "source": [
    "response_dict_n = dictionary_present(debug_response_assistant_n)\n",
    "display(response_dict_n)"
   ]
  },
  {
   "cell_type": "code",
   "execution_count": 216,
   "id": "5Jwp8q2NGGAg",
   "metadata": {
    "colab": {
     "base_uri": "https://localhost:8080/"
    },
    "id": "5Jwp8q2NGGAg",
    "outputId": "c8563059-3d99-47a7-ffe1-c840ba137ef6"
   },
   "outputs": [
    {
     "data": {
      "text/plain": [
       "dict"
      ]
     },
     "execution_count": 216,
     "metadata": {},
     "output_type": "execute_result"
    }
   ],
   "source": [
    "type(response_dict_n)"
   ]
  },
  {
   "cell_type": "code",
   "execution_count": 217,
   "id": "kzXtY0As84vl",
   "metadata": {
    "colab": {
     "base_uri": "https://localhost:8080/"
    },
    "id": "kzXtY0As84vl",
    "outputId": "15c64776-b88b-4561-8631-a03af1fded29"
   },
   "outputs": [
    {
     "name": "stdout",
     "output_type": "stream",
     "text": [
      "Iteration: 0\n",
      "{'Genres': 'Classic , Fiction', 'Author': 'J.K. rowling ', 'Description': 'something involving castles', 'Rating': 'greater than 3.5'}\n",
      "--------------------------------------------------\n",
      "Iteration: 1\n",
      "{'Genres': 'Classic , Fiction', 'Author': 'J.K. rowling ', 'Description': 'something involving castles', 'Rating': 'greater than 3.5'}\n",
      "--------------------------------------------------\n",
      "Iteration: 2\n",
      "{'Genres': 'Classic , Fiction', 'Author': 'J.K. rowling ', 'Description': 'something involving castles', 'Rating': 'greater than 3.5'}\n",
      "--------------------------------------------------\n",
      "Iteration: 3\n",
      "{'Genres': 'Classic , Fiction', 'Author': 'J.K. rowling ', 'Description': 'something involving castles', 'Rating': 'greater than 3.5'}\n",
      "--------------------------------------------------\n",
      "Iteration: 4\n",
      "{'Genres': 'Classic , Fiction', 'Author': 'J.K. rowling ', 'Description': 'something involving castles', 'Rating': 'greater than 3.5'}\n",
      "--------------------------------------------------\n",
      "Iteration: 5\n",
      "{'Genres': 'Classic , Fiction', 'Author': 'J.K. rowling ', 'Description': 'something involving castles', 'Rating': 'greater than 3.5'}\n",
      "--------------------------------------------------\n",
      "Iteration: 6\n",
      "{'Genres': ['Classic , Fiction'], 'Author': 'J.K. rowling ', 'Description': 'something involving castles', 'Rating': 'greater than 3.5'}\n",
      "--------------------------------------------------\n",
      "Iteration: 7\n",
      "{'Genres': 'Classic , Fiction', 'Author': 'J.K. rowling ', 'Description': 'something involving castles', 'Rating': 'greater than 3.5'}\n",
      "--------------------------------------------------\n",
      "Iteration: 8\n",
      "{'Genres': 'Classic , Fiction', 'Author': 'J.K. rowling ', 'Description': 'something involving castles', 'Rating': 'greater than 3.5'}\n",
      "--------------------------------------------------\n",
      "Iteration: 9\n",
      "{'Genres': 'Classic , Fiction', 'Author': 'J.K. rowling ', 'Description': 'something involving castles', 'Rating': 'greater than 3.5'}\n",
      "--------------------------------------------------\n"
     ]
    }
   ],
   "source": [
    "# Check for LLM function's consistency\n",
    "iterate_llm_response(dictionary_present, debug_response_assistant_n)"
   ]
  },
  {
   "cell_type": "markdown",
   "id": "4e3135e6",
   "metadata": {
    "id": "4e3135e6"
   },
   "source": [
    "Let's quickly take a look at the code that we have run until now."
   ]
  },
  {
   "cell_type": "code",
   "execution_count": null,
   "id": "IJmvsVt25Y7r",
   "metadata": {
    "colab": {
     "base_uri": "https://localhost:8080/"
    },
    "id": "IJmvsVt25Y7r",
    "outputId": "52be98dd-7f9c-40e8-f711-95c338821527"
   },
   "outputs": [],
   "source": [
    "# debug_conversation"
   ]
  },
  {
   "cell_type": "code",
   "execution_count": 236,
   "id": "a1190d29",
   "metadata": {
    "colab": {
     "base_uri": "https://localhost:8080/"
    },
    "id": "a1190d29",
    "outputId": "d1fdfa18-4df6-412a-bd63-4ac1cfe8fa8c"
   },
   "outputs": [
    {
     "name": "stdout",
     "output_type": "stream",
     "text": [
      "{'Genres': 'Classic , Fiction', 'Author': 'J.K. rowling ', 'Description': 'something involving castles', 'Rating': 'greater than 3.5'}\n"
     ]
    }
   ],
   "source": [
    "debug_conversation = initialize_conversation()\n",
    "debug_user_input = \"Hi, I am Mahalakshmi. I need a book recommendation for Fiction and classic.\"\n",
    "debug_moderation = moderation_check(debug_user_input)\n",
    "debug_conversation.append({\"role\": \"user\", \"content\": debug_user_input})\n",
    "\n",
    "debug_response_assistant = get_chat_completions(debug_conversation)\n",
    "debug_moderation = moderation_check(debug_response_assistant)\n",
    "debug_conversation.append({\"role\": \"assistant\", \"content\": debug_response_assistant})\n",
    "\n",
    "debug_confirmation = intent_confirmation_layer(debug_response_assistant)\n",
    "# After a series of conversation...\n",
    "response_dict_n = dictionary_present(debug_response_assistant_n)\n",
    "print(response_dict_n)"
   ]
  },
  {
   "cell_type": "markdown",
   "id": "c95c036b",
   "metadata": {
    "id": "c95c036b"
   },
   "source": [
    "So, now that you have the user profile stored in `response_dict_n`. We'll use this to generate recommendations. Before that, we need to create a similar profile for every laptop. Let's see how we do it."
   ]
  },
  {
   "cell_type": "markdown",
   "id": "TWY1b2OXRx4u",
   "metadata": {
    "id": "TWY1b2OXRx4u"
   },
   "source": [
    "## Stage 2"
   ]
  },
  {
   "cell_type": "markdown",
   "id": "-HEFP9rps1a5",
   "metadata": {
    "id": "-HEFP9rps1a5"
   },
   "source": [
    "[Stage 2 Flowchart](https://cdn.upgrad.com/uploads/production/c71aa254-32db-4265-a083-f4a540dac014/Stage+2.jpg)"
   ]
  },
  {
   "cell_type": "markdown",
   "id": "af7ced9d",
   "metadata": {
    "id": "af7ced9d"
   },
   "source": [
    "### 3.3 Implementing the Product Mapping and Information Extraction Layers\n",
    "This stage consists of the steps that will extract information and form book features ."
   ]
  },
  {
   "cell_type": "markdown",
   "id": "R2F8yCDkvsVd",
   "metadata": {
    "id": "R2F8yCDkvsVd"
   },
   "source": [
    "### `product_map_layer()`:\n",
    "\n",
    "-  Use a prompt that assign it the role of a Book Specifications Classifier, whose objective is to extract key features and classify them based on book fields and descriptions.\n",
    "\n",
    "- Provide step-by-step instructions for extracting book features from description as well. This function is responsible for extracting key features and criteria from book descriptions. \n",
    "\n",
    "- Since all the details of the books are already available in given columns and there is no logic is to be applied for the segregation of data we will use simple pandas commands to extact the required information and create books faetures column which will contin a dictionary with our key and values\n",
    "\n",
    "- Assign specific rules for each feature (e.g., Author, Description , Genres, Avg Rating) and associate them with the appropriate classification rating value.\n",
    "\n",
    "- Includes Few Shot Prompting (sample conversation between the user and assistant) to demonstrate the expected result of the feature extraction and classification process."
   ]
  },
  {
   "cell_type": "code",
   "execution_count": 315,
   "id": "59958582-f24c-4170-9852-0b52f3fbfc26",
   "metadata": {
    "id": "c9bd0233",
    "scrolled": true
   },
   "outputs": [],
   "source": [
    "book_df= pd.read_csv('goodreads_data.csv')"
   ]
  },
  {
   "cell_type": "code",
   "execution_count": 316,
   "id": "72db9a21-0555-4783-8b36-4ef39b0b24f2",
   "metadata": {},
   "outputs": [
    {
     "data": {
      "text/html": [
       "<div>\n",
       "<style scoped>\n",
       "    .dataframe tbody tr th:only-of-type {\n",
       "        vertical-align: middle;\n",
       "    }\n",
       "\n",
       "    .dataframe tbody tr th {\n",
       "        vertical-align: top;\n",
       "    }\n",
       "\n",
       "    .dataframe thead th {\n",
       "        text-align: right;\n",
       "    }\n",
       "</style>\n",
       "<table border=\"1\" class=\"dataframe\">\n",
       "  <thead>\n",
       "    <tr style=\"text-align: right;\">\n",
       "      <th></th>\n",
       "      <th>Unnamed: 0</th>\n",
       "      <th>Book</th>\n",
       "      <th>Author</th>\n",
       "      <th>Description</th>\n",
       "      <th>Genres</th>\n",
       "      <th>Avg_Rating</th>\n",
       "      <th>Num_Ratings</th>\n",
       "      <th>URL</th>\n",
       "    </tr>\n",
       "  </thead>\n",
       "  <tbody>\n",
       "    <tr>\n",
       "      <th>0</th>\n",
       "      <td>0</td>\n",
       "      <td>To Kill a Mockingbird</td>\n",
       "      <td>Harper Lee</td>\n",
       "      <td>The unforgettable novel of a childhood in a sl...</td>\n",
       "      <td>['Classics', 'Fiction', 'Historical Fiction', ...</td>\n",
       "      <td>4.27</td>\n",
       "      <td>5,691,311</td>\n",
       "      <td>https://www.goodreads.com/book/show/2657.To_Ki...</td>\n",
       "    </tr>\n",
       "    <tr>\n",
       "      <th>1</th>\n",
       "      <td>1</td>\n",
       "      <td>Harry Potter and the Philosopher’s Stone (Harr...</td>\n",
       "      <td>J.K. Rowling</td>\n",
       "      <td>Harry Potter thinks he is an ordinary boy - un...</td>\n",
       "      <td>['Fantasy', 'Fiction', 'Young Adult', 'Magic',...</td>\n",
       "      <td>4.47</td>\n",
       "      <td>9,278,135</td>\n",
       "      <td>https://www.goodreads.com/book/show/72193.Harr...</td>\n",
       "    </tr>\n",
       "    <tr>\n",
       "      <th>2</th>\n",
       "      <td>2</td>\n",
       "      <td>Pride and Prejudice</td>\n",
       "      <td>Jane Austen</td>\n",
       "      <td>Since its immediate success in 1813, Pride and...</td>\n",
       "      <td>['Classics', 'Fiction', 'Romance', 'Historical...</td>\n",
       "      <td>4.28</td>\n",
       "      <td>3,944,155</td>\n",
       "      <td>https://www.goodreads.com/book/show/1885.Pride...</td>\n",
       "    </tr>\n",
       "    <tr>\n",
       "      <th>3</th>\n",
       "      <td>3</td>\n",
       "      <td>The Diary of a Young Girl</td>\n",
       "      <td>Anne Frank</td>\n",
       "      <td>Discovered in the attic in which she spent the...</td>\n",
       "      <td>['Classics', 'Nonfiction', 'History', 'Biograp...</td>\n",
       "      <td>4.18</td>\n",
       "      <td>3,488,438</td>\n",
       "      <td>https://www.goodreads.com/book/show/48855.The_...</td>\n",
       "    </tr>\n",
       "    <tr>\n",
       "      <th>4</th>\n",
       "      <td>4</td>\n",
       "      <td>Animal Farm</td>\n",
       "      <td>George Orwell</td>\n",
       "      <td>Librarian's note: There is an Alternate Cover ...</td>\n",
       "      <td>['Classics', 'Fiction', 'Dystopia', 'Fantasy',...</td>\n",
       "      <td>3.98</td>\n",
       "      <td>3,575,172</td>\n",
       "      <td>https://www.goodreads.com/book/show/170448.Ani...</td>\n",
       "    </tr>\n",
       "    <tr>\n",
       "      <th>...</th>\n",
       "      <td>...</td>\n",
       "      <td>...</td>\n",
       "      <td>...</td>\n",
       "      <td>...</td>\n",
       "      <td>...</td>\n",
       "      <td>...</td>\n",
       "      <td>...</td>\n",
       "      <td>...</td>\n",
       "    </tr>\n",
       "    <tr>\n",
       "      <th>9995</th>\n",
       "      <td>9995</td>\n",
       "      <td>Breeders (Breeders Trilogy, #1)</td>\n",
       "      <td>Ashley Quigley</td>\n",
       "      <td>How far would you go? If human society was gen...</td>\n",
       "      <td>['Dystopia', 'Science Fiction', 'Post Apocalyp...</td>\n",
       "      <td>3.44</td>\n",
       "      <td>276</td>\n",
       "      <td>https://www.goodreads.com/book/show/22085400-b...</td>\n",
       "    </tr>\n",
       "    <tr>\n",
       "      <th>9996</th>\n",
       "      <td>9996</td>\n",
       "      <td>Dynamo</td>\n",
       "      <td>Eleanor Gustafson</td>\n",
       "      <td>Jeth Cavanaugh is searching for a new life alo...</td>\n",
       "      <td>[]</td>\n",
       "      <td>4.23</td>\n",
       "      <td>60</td>\n",
       "      <td>https://www.goodreads.com/book/show/20862902-d...</td>\n",
       "    </tr>\n",
       "    <tr>\n",
       "      <th>9997</th>\n",
       "      <td>9997</td>\n",
       "      <td>The Republic of Trees</td>\n",
       "      <td>Sam Taylor</td>\n",
       "      <td>This dark fable tells the story of four Englis...</td>\n",
       "      <td>['Fiction', 'Horror', 'Dystopia', 'Coming Of A...</td>\n",
       "      <td>3.29</td>\n",
       "      <td>383</td>\n",
       "      <td>https://www.goodreads.com/book/show/891262.The...</td>\n",
       "    </tr>\n",
       "    <tr>\n",
       "      <th>9998</th>\n",
       "      <td>9998</td>\n",
       "      <td>Waking Up (Healing Hearts, #1)</td>\n",
       "      <td>Renee Dyer</td>\n",
       "      <td>For Adriana Monroe life couldn’t get any bette...</td>\n",
       "      <td>['New Adult', 'Romance', 'Contemporary Romance...</td>\n",
       "      <td>4.13</td>\n",
       "      <td>263</td>\n",
       "      <td>https://www.goodreads.com/book/show/19347252-w...</td>\n",
       "    </tr>\n",
       "    <tr>\n",
       "      <th>9999</th>\n",
       "      <td>9999</td>\n",
       "      <td>Bits and Pieces: Tales and Sonnets</td>\n",
       "      <td>Jas T. Ward</td>\n",
       "      <td>After demands of thousands of fans in various ...</td>\n",
       "      <td>[]</td>\n",
       "      <td>5.00</td>\n",
       "      <td>36</td>\n",
       "      <td>https://www.goodreads.com/book/show/21302552-b...</td>\n",
       "    </tr>\n",
       "  </tbody>\n",
       "</table>\n",
       "<p>10000 rows × 8 columns</p>\n",
       "</div>"
      ],
      "text/plain": [
       "      Unnamed: 0                                               Book             Author  \\\n",
       "0              0                              To Kill a Mockingbird         Harper Lee   \n",
       "1              1  Harry Potter and the Philosopher’s Stone (Harr...       J.K. Rowling   \n",
       "2              2                                Pride and Prejudice        Jane Austen   \n",
       "3              3                          The Diary of a Young Girl         Anne Frank   \n",
       "4              4                                        Animal Farm      George Orwell   \n",
       "...          ...                                                ...                ...   \n",
       "9995        9995                    Breeders (Breeders Trilogy, #1)     Ashley Quigley   \n",
       "9996        9996                                             Dynamo  Eleanor Gustafson   \n",
       "9997        9997                              The Republic of Trees         Sam Taylor   \n",
       "9998        9998                     Waking Up (Healing Hearts, #1)         Renee Dyer   \n",
       "9999        9999                 Bits and Pieces: Tales and Sonnets        Jas T. Ward   \n",
       "\n",
       "                                            Description  \\\n",
       "0     The unforgettable novel of a childhood in a sl...   \n",
       "1     Harry Potter thinks he is an ordinary boy - un...   \n",
       "2     Since its immediate success in 1813, Pride and...   \n",
       "3     Discovered in the attic in which she spent the...   \n",
       "4     Librarian's note: There is an Alternate Cover ...   \n",
       "...                                                 ...   \n",
       "9995  How far would you go? If human society was gen...   \n",
       "9996  Jeth Cavanaugh is searching for a new life alo...   \n",
       "9997  This dark fable tells the story of four Englis...   \n",
       "9998  For Adriana Monroe life couldn’t get any bette...   \n",
       "9999  After demands of thousands of fans in various ...   \n",
       "\n",
       "                                                 Genres  Avg_Rating Num_Ratings  \\\n",
       "0     ['Classics', 'Fiction', 'Historical Fiction', ...        4.27   5,691,311   \n",
       "1     ['Fantasy', 'Fiction', 'Young Adult', 'Magic',...        4.47   9,278,135   \n",
       "2     ['Classics', 'Fiction', 'Romance', 'Historical...        4.28   3,944,155   \n",
       "3     ['Classics', 'Nonfiction', 'History', 'Biograp...        4.18   3,488,438   \n",
       "4     ['Classics', 'Fiction', 'Dystopia', 'Fantasy',...        3.98   3,575,172   \n",
       "...                                                 ...         ...         ...   \n",
       "9995  ['Dystopia', 'Science Fiction', 'Post Apocalyp...        3.44         276   \n",
       "9996                                                 []        4.23          60   \n",
       "9997  ['Fiction', 'Horror', 'Dystopia', 'Coming Of A...        3.29         383   \n",
       "9998  ['New Adult', 'Romance', 'Contemporary Romance...        4.13         263   \n",
       "9999                                                 []        5.00          36   \n",
       "\n",
       "                                                    URL  \n",
       "0     https://www.goodreads.com/book/show/2657.To_Ki...  \n",
       "1     https://www.goodreads.com/book/show/72193.Harr...  \n",
       "2     https://www.goodreads.com/book/show/1885.Pride...  \n",
       "3     https://www.goodreads.com/book/show/48855.The_...  \n",
       "4     https://www.goodreads.com/book/show/170448.Ani...  \n",
       "...                                                 ...  \n",
       "9995  https://www.goodreads.com/book/show/22085400-b...  \n",
       "9996  https://www.goodreads.com/book/show/20862902-d...  \n",
       "9997  https://www.goodreads.com/book/show/891262.The...  \n",
       "9998  https://www.goodreads.com/book/show/19347252-w...  \n",
       "9999  https://www.goodreads.com/book/show/21302552-b...  \n",
       "\n",
       "[10000 rows x 8 columns]"
      ]
     },
     "execution_count": 316,
     "metadata": {},
     "output_type": "execute_result"
    }
   ],
   "source": [
    "book_df"
   ]
  },
  {
   "cell_type": "code",
   "execution_count": 317,
   "id": "9f78f838-ad78-4c49-a945-c30bc1660dbe",
   "metadata": {},
   "outputs": [],
   "source": [
    "def create_row_dict(row):\n",
    "    return row.to_dict()"
   ]
  },
  {
   "cell_type": "code",
   "execution_count": 318,
   "id": "1bb40a27-8b56-4b66-b705-489296db1e38",
   "metadata": {},
   "outputs": [
    {
     "data": {
      "text/plain": [
       "Index(['Unnamed: 0', 'Book', 'Author', 'Description', 'Genres', 'Avg_Rating', 'Num_Ratings',\n",
       "       'URL'],\n",
       "      dtype='object')"
      ]
     },
     "execution_count": 318,
     "metadata": {},
     "output_type": "execute_result"
    }
   ],
   "source": [
    "book_df.columns"
   ]
  },
  {
   "cell_type": "code",
   "execution_count": 223,
   "id": "781d9ddc-0abb-4bd8-bea5-a1a0cb6fa00b",
   "metadata": {},
   "outputs": [
    {
     "data": {
      "text/plain": [
       "Index(['Unnamed: 0', 'Author', 'Description', 'Genres', 'Avg_Rating'], dtype='object')"
      ]
     },
     "execution_count": 223,
     "metadata": {},
     "output_type": "execute_result"
    }
   ],
   "source": [
    "# book_df_dropped = book_df.drop(columns=[ 'URL', 'Num_Ratings','Book'])\n",
    "# book_df_dropped.columns"
   ]
  },
  {
   "cell_type": "code",
   "execution_count": 321,
   "id": "44a0905b-4134-494e-9bee-7faaf02399b2",
   "metadata": {},
   "outputs": [],
   "source": [
    "book_df_cleaned = book_df.loc[:, ~book_df.columns.str.contains('^Unnamed')]"
   ]
  },
  {
   "cell_type": "code",
   "execution_count": 322,
   "id": "76a8bd34-4a90-4bb9-8cec-cbdef61088b9",
   "metadata": {},
   "outputs": [
    {
     "data": {
      "text/plain": [
       "Index(['Book', 'Author', 'Description', 'Genres', 'Avg_Rating', 'Num_Ratings', 'URL'], dtype='object')"
      ]
     },
     "execution_count": 322,
     "metadata": {},
     "output_type": "execute_result"
    }
   ],
   "source": [
    "book_df_cleaned.columns"
   ]
  },
  {
   "cell_type": "code",
   "execution_count": 323,
   "id": "58381da3-5412-4809-9109-c8b62e44710e",
   "metadata": {},
   "outputs": [
    {
     "data": {
      "text/plain": [
       "0       {'Book': 'To Kill a Mockingbird', 'Author': 'H...\n",
       "1       {'Book': 'Harry Potter and the Philosopher’s S...\n",
       "2       {'Book': 'Pride and Prejudice', 'Author': 'Jan...\n",
       "3       {'Book': 'The Diary of a Young Girl', 'Author'...\n",
       "4       {'Book': 'Animal Farm', 'Author': 'George Orwe...\n",
       "                              ...                        \n",
       "9995    {'Book': 'Breeders (Breeders Trilogy, #1)', 'A...\n",
       "9996    {'Book': 'Dynamo', 'Author': 'Eleanor Gustafso...\n",
       "9997    {'Book': 'The Republic of Trees', 'Author': 'S...\n",
       "9998    {'Book': 'Waking Up (Healing Hearts, #1)', 'Au...\n",
       "9999    {'Book': 'Bits and Pieces: Tales and Sonnets',...\n",
       "Name: book_features, Length: 10000, dtype: object"
      ]
     },
     "execution_count": 323,
     "metadata": {},
     "output_type": "execute_result"
    }
   ],
   "source": [
    "# Run this code once to extract book info in the form of a dictionary\n",
    "# Create a new column \"book_feature\" that contains the dictionary of the product features\n",
    "book_df_cleaned['book_features'] = book_df_cleaned.apply(create_row_dict, axis=1)\n",
    "book_df_cleaned['book_features']"
   ]
  },
  {
   "cell_type": "code",
   "execution_count": 324,
   "id": "b02de1cd-2d25-4c0f-9d48-55a7b12cd676",
   "metadata": {},
   "outputs": [],
   "source": [
    "# book_df['book_feature'] = book_df.apply(lambda x: product_map_layer(x))"
   ]
  },
  {
   "cell_type": "code",
   "execution_count": 325,
   "id": "7441d1aa",
   "metadata": {
    "id": "7441d1aa"
   },
   "outputs": [],
   "source": [
    "book_df_cleaned.to_csv(\"goodreads_updated_data.csv\",index=False,header = True)"
   ]
  },
  {
   "cell_type": "markdown",
   "id": "3141b150",
   "metadata": {
    "id": "3141b150"
   },
   "source": [
    "### `compare_books_with_user()`:\n",
    "\n",
    "This function compares the user's profile with the different books and come back with the top recommendations. It will perform the following steps:\n",
    "- It will take the user requirements dictionary as input\n",
    "- Filter the books based on their rating, keeping only the ones within the user's rating perference.\n",
    "- Calculate a score for each book based on how well it matches the user's requirements.\n",
    "- Sort the books based on their scores in descending order.\n",
    "- Return the top 3 books as a JSON-formatted string."
   ]
  },
  {
   "cell_type": "code",
   "execution_count": 237,
   "id": "8eccb0ff-0ea3-4430-9243-e982828b8939",
   "metadata": {},
   "outputs": [
    {
     "data": {
      "text/plain": [
       "{'Genres': 'Classic , Fiction',\n",
       " 'Author': 'J.K. rowling ',\n",
       " 'Description': 'something involving castles',\n",
       " 'Rating': 'greater than 3.5'}"
      ]
     },
     "execution_count": 237,
     "metadata": {},
     "output_type": "execute_result"
    }
   ],
   "source": [
    "response_dict_n"
   ]
  },
  {
   "cell_type": "code",
   "execution_count": 180,
   "id": "cb1f3514-a733-4c87-80de-b4c239fb8d88",
   "metadata": {},
   "outputs": [
    {
     "data": {
      "text/plain": [
       "[3.5]"
      ]
     },
     "execution_count": 180,
     "metadata": {},
     "output_type": "execute_result"
    }
   ],
   "source": [
    "# user_requirements = response_dict_n\n",
    "\n",
    "# numbers = re.findall(r'\\d+\\.\\d+|\\d+', user_requirements.get('Rating', '0'))\n",
    "\n",
    "# # extract_numbers = re.findall(r'\\d+', user_requirements.get('Rating', '0'))\n",
    "\n",
    "# numbers = [float(num) for num in numbers]\n",
    "# type(numbers)\n",
    "# numbers"
   ]
  },
  {
   "cell_type": "code",
   "execution_count": 181,
   "id": "a127ee8c-582b-4f1d-91dc-fa0d4e368599",
   "metadata": {},
   "outputs": [
    {
     "data": {
      "text/html": [
       "<div>\n",
       "<style scoped>\n",
       "    .dataframe tbody tr th:only-of-type {\n",
       "        vertical-align: middle;\n",
       "    }\n",
       "\n",
       "    .dataframe tbody tr th {\n",
       "        vertical-align: top;\n",
       "    }\n",
       "\n",
       "    .dataframe thead th {\n",
       "        text-align: right;\n",
       "    }\n",
       "</style>\n",
       "<table border=\"1\" class=\"dataframe\">\n",
       "  <thead>\n",
       "    <tr style=\"text-align: right;\">\n",
       "      <th></th>\n",
       "      <th>Author</th>\n",
       "      <th>Description</th>\n",
       "      <th>Genres</th>\n",
       "      <th>Avg_Rating</th>\n",
       "      <th>book_features</th>\n",
       "    </tr>\n",
       "  </thead>\n",
       "  <tbody>\n",
       "    <tr>\n",
       "      <th>0</th>\n",
       "      <td>Harper Lee</td>\n",
       "      <td>The unforgettable novel of a childhood in a sl...</td>\n",
       "      <td>['Classics', 'Fiction', 'Historical Fiction', ...</td>\n",
       "      <td>4.27</td>\n",
       "      <td>{'Author': 'Harper Lee', 'Description': 'The u...</td>\n",
       "    </tr>\n",
       "    <tr>\n",
       "      <th>1</th>\n",
       "      <td>J.K. Rowling</td>\n",
       "      <td>Harry Potter thinks he is an ordinary boy - un...</td>\n",
       "      <td>['Fantasy', 'Fiction', 'Young Adult', 'Magic',...</td>\n",
       "      <td>4.47</td>\n",
       "      <td>{'Author': 'J.K. Rowling', 'Description': 'Har...</td>\n",
       "    </tr>\n",
       "    <tr>\n",
       "      <th>2</th>\n",
       "      <td>Jane Austen</td>\n",
       "      <td>Since its immediate success in 1813, Pride and...</td>\n",
       "      <td>['Classics', 'Fiction', 'Romance', 'Historical...</td>\n",
       "      <td>4.28</td>\n",
       "      <td>{'Author': 'Jane Austen', 'Description': 'Sinc...</td>\n",
       "    </tr>\n",
       "    <tr>\n",
       "      <th>3</th>\n",
       "      <td>Anne Frank</td>\n",
       "      <td>Discovered in the attic in which she spent the...</td>\n",
       "      <td>['Classics', 'Nonfiction', 'History', 'Biograp...</td>\n",
       "      <td>4.18</td>\n",
       "      <td>{'Author': 'Anne Frank', 'Description': 'Disco...</td>\n",
       "    </tr>\n",
       "    <tr>\n",
       "      <th>4</th>\n",
       "      <td>George Orwell</td>\n",
       "      <td>Librarian's note: There is an Alternate Cover ...</td>\n",
       "      <td>['Classics', 'Fiction', 'Dystopia', 'Fantasy',...</td>\n",
       "      <td>3.98</td>\n",
       "      <td>{'Author': 'George Orwell', 'Description': 'Li...</td>\n",
       "    </tr>\n",
       "    <tr>\n",
       "      <th>...</th>\n",
       "      <td>...</td>\n",
       "      <td>...</td>\n",
       "      <td>...</td>\n",
       "      <td>...</td>\n",
       "      <td>...</td>\n",
       "    </tr>\n",
       "    <tr>\n",
       "      <th>9993</th>\n",
       "      <td>Tom Vetter</td>\n",
       "      <td>In Call To Crusade, Tom Vetter begins the Sieg...</td>\n",
       "      <td>['Historical Fiction', 'Historical']</td>\n",
       "      <td>4.56</td>\n",
       "      <td>{'Author': 'Tom Vetter', 'Description': 'In Ca...</td>\n",
       "    </tr>\n",
       "    <tr>\n",
       "      <th>9994</th>\n",
       "      <td>Marc-Uwe Kling</td>\n",
       "      <td>\"Kannst du heute mal bezahlen?\", fragt das Kän...</td>\n",
       "      <td>['Humor', 'Fiction', 'Audiobook', 'German Lite...</td>\n",
       "      <td>4.30</td>\n",
       "      <td>{'Author': 'Marc-Uwe Kling', 'Description': '\"...</td>\n",
       "    </tr>\n",
       "    <tr>\n",
       "      <th>9996</th>\n",
       "      <td>Eleanor Gustafson</td>\n",
       "      <td>Jeth Cavanaugh is searching for a new life alo...</td>\n",
       "      <td>[]</td>\n",
       "      <td>4.23</td>\n",
       "      <td>{'Author': 'Eleanor Gustafson', 'Description':...</td>\n",
       "    </tr>\n",
       "    <tr>\n",
       "      <th>9998</th>\n",
       "      <td>Renee Dyer</td>\n",
       "      <td>For Adriana Monroe life couldn’t get any bette...</td>\n",
       "      <td>['New Adult', 'Romance', 'Contemporary Romance...</td>\n",
       "      <td>4.13</td>\n",
       "      <td>{'Author': 'Renee Dyer', 'Description': 'For A...</td>\n",
       "    </tr>\n",
       "    <tr>\n",
       "      <th>9999</th>\n",
       "      <td>Jas T. Ward</td>\n",
       "      <td>After demands of thousands of fans in various ...</td>\n",
       "      <td>[]</td>\n",
       "      <td>5.00</td>\n",
       "      <td>{'Author': 'Jas T. Ward', 'Description': 'Afte...</td>\n",
       "    </tr>\n",
       "  </tbody>\n",
       "</table>\n",
       "<p>9686 rows × 5 columns</p>\n",
       "</div>"
      ],
      "text/plain": [
       "                 Author                                        Description  \\\n",
       "0            Harper Lee  The unforgettable novel of a childhood in a sl...   \n",
       "1          J.K. Rowling  Harry Potter thinks he is an ordinary boy - un...   \n",
       "2           Jane Austen  Since its immediate success in 1813, Pride and...   \n",
       "3            Anne Frank  Discovered in the attic in which she spent the...   \n",
       "4         George Orwell  Librarian's note: There is an Alternate Cover ...   \n",
       "...                 ...                                                ...   \n",
       "9993         Tom Vetter  In Call To Crusade, Tom Vetter begins the Sieg...   \n",
       "9994     Marc-Uwe Kling  \"Kannst du heute mal bezahlen?\", fragt das Kän...   \n",
       "9996  Eleanor Gustafson  Jeth Cavanaugh is searching for a new life alo...   \n",
       "9998         Renee Dyer  For Adriana Monroe life couldn’t get any bette...   \n",
       "9999        Jas T. Ward  After demands of thousands of fans in various ...   \n",
       "\n",
       "                                                 Genres  Avg_Rating  \\\n",
       "0     ['Classics', 'Fiction', 'Historical Fiction', ...        4.27   \n",
       "1     ['Fantasy', 'Fiction', 'Young Adult', 'Magic',...        4.47   \n",
       "2     ['Classics', 'Fiction', 'Romance', 'Historical...        4.28   \n",
       "3     ['Classics', 'Nonfiction', 'History', 'Biograp...        4.18   \n",
       "4     ['Classics', 'Fiction', 'Dystopia', 'Fantasy',...        3.98   \n",
       "...                                                 ...         ...   \n",
       "9993               ['Historical Fiction', 'Historical']        4.56   \n",
       "9994  ['Humor', 'Fiction', 'Audiobook', 'German Lite...        4.30   \n",
       "9996                                                 []        4.23   \n",
       "9998  ['New Adult', 'Romance', 'Contemporary Romance...        4.13   \n",
       "9999                                                 []        5.00   \n",
       "\n",
       "                                          book_features  \n",
       "0     {'Author': 'Harper Lee', 'Description': 'The u...  \n",
       "1     {'Author': 'J.K. Rowling', 'Description': 'Har...  \n",
       "2     {'Author': 'Jane Austen', 'Description': 'Sinc...  \n",
       "3     {'Author': 'Anne Frank', 'Description': 'Disco...  \n",
       "4     {'Author': 'George Orwell', 'Description': 'Li...  \n",
       "...                                                 ...  \n",
       "9993  {'Author': 'Tom Vetter', 'Description': 'In Ca...  \n",
       "9994  {'Author': 'Marc-Uwe Kling', 'Description': '\"...  \n",
       "9996  {'Author': 'Eleanor Gustafson', 'Description':...  \n",
       "9998  {'Author': 'Renee Dyer', 'Description': 'For A...  \n",
       "9999  {'Author': 'Jas T. Ward', 'Description': 'Afte...  \n",
       "\n",
       "[9686 rows x 5 columns]"
      ]
     },
     "execution_count": 181,
     "metadata": {},
     "output_type": "execute_result"
    }
   ],
   "source": [
    "# numbers = re.findall(r'\\d+\\.\\d+|\\d+', user_requirements.get('Rating', '0'))\n",
    "# rating = [float(num) for num in numbers]\n",
    "\n",
    "# filtered_books_1 = book_df_cleaned.copy()\n",
    "# filtered_books_1['Avg_Rating'] = filtered_books_1['Avg_Rating'].astype(float)\n",
    "# filtered_books_1 = filtered_books_1[filtered_books_1['Avg_Rating'] >= rating[0]].copy()\n",
    "# filtered_books_1"
   ]
  },
  {
   "cell_type": "markdown",
   "id": "69544515-5ba1-40fd-a7ec-0f65d6f2b4e9",
   "metadata": {},
   "source": [
    "#### Scoring Criterion:\n",
    "- Genre : Score is incremented for every Genre match \n",
    "    - Eg: if user requirement is Classic and Fiction and the book feature has both then the score would be incremented by 2\n",
    "\n",
    "- Author: Score is incremented by 1 if there is match on Author name as well\n",
    "\n",
    "- Description : If the user desciption word/s are present in book feature description then score is incremented by only 1 for each hits. \n"
   ]
  },
  {
   "cell_type": "code",
   "execution_count": 268,
   "id": "8598cdb3-4fef-4423-8750-6ca52598d32d",
   "metadata": {},
   "outputs": [],
   "source": [
    "user_requirements = response_dict_n"
   ]
  },
  {
   "cell_type": "code",
   "execution_count": 272,
   "id": "b49ece2c-1fee-4d3b-bfb4-9b6e16ea71bb",
   "metadata": {},
   "outputs": [
    {
     "name": "stdout",
     "output_type": "stream",
     "text": [
      "Found filtered strings: ['Classic', 'Fiction']\n",
      "Score 2\n"
     ]
    }
   ],
   "source": [
    "#logic for Genres and description\n",
    "str1 = \"Classic , Fiction\"\n",
    "str2 = \"['Classics', 'Fiction', 'Historical Fiction', 'School', 'Literature', 'Young Adult', 'Historical']\"\n",
    "\n",
    "# Split str1 into individual strings\n",
    "str1_list = [s.strip() for s in user_str1.split(' ')]\n",
    "\n",
    "# Check if any of the strings in str1_list are present in str2\n",
    "found_strings = [s for s in str1_list if s in book_str2]\n",
    "\n",
    "# Print result\n",
    "if found_strings:\n",
    "    filtered_list = [s for s in found_strings if len(s) > 1]\n",
    "    print(f\"Found filtered strings: {filtered_list}\")\n",
    "    print(\"Score\" , len(filtered_list))\n",
    "else:\n",
    "    print(\"No strings found\")"
   ]
  },
  {
   "cell_type": "code",
   "execution_count": 274,
   "id": "1deb4fa8-be84-4723-98bc-f1b541d038a3",
   "metadata": {},
   "outputs": [
    {
     "name": "stdout",
     "output_type": "stream",
     "text": [
      "Are the strings the same? True\n"
     ]
    }
   ],
   "source": [
    "# Logic for Author\n",
    "# book_str1 = \"J.K. Rowling\"\n",
    "# user_str2 = \"J.K. rowling\"\n",
    "\n",
    "def normalize_string(s):\n",
    "    # Convert to lowercase\n",
    "    s = s.lower()\n",
    "    # Remove punctuation and extra spaces\n",
    "    s = re.sub(r'\\W+', ' ', s)\n",
    "    # Remove leading and trailing whitespace\n",
    "    s = s.strip()\n",
    "    return s\n",
    "\n",
    "# Strings to compare\n",
    "book_str1 = \"J.K. Rowling\"\n",
    "user_str2 = \"j   K rowling\"\n",
    "\n",
    "# Normalize the strings\n",
    "normalized_book_str1 = normalize_string(book_str1)\n",
    "normalized_user_str2 = normalize_string(user_str2)\n",
    "\n",
    "# Check if the normalized strings are the same\n",
    "are_strings_same = normalized_book_str1 == normalized_user_str2\n",
    "\n",
    "print(f\"Are the strings the same? {are_strings_same}\")\n"
   ]
  },
  {
   "cell_type": "code",
   "execution_count": 285,
   "id": "af268836-b61c-43ec-87d5-fb97042f059e",
   "metadata": {},
   "outputs": [
    {
     "name": "stdout",
     "output_type": "stream",
     "text": [
      "Found filtered strings: []\n",
      "Score = 1\n"
     ]
    }
   ],
   "source": [
    "#logic for description\n",
    "str2 = \"The unforgettable novel of a childhood in a sleepy Southern town and the crisis of conscience that rocked it. To Kill A Mockingbird became both an instant bestseller and a critical success when it was first published in 1960. It went on to win the Pulitzer Prize in 1961 and was later made into an Academy Award-winning film, also a classic.Compassionate, dramatic, and deeply moving, To Kill A Mockingbird takes readers to the roots of human behavior - to innocence and experience, kindness and cruelty, love and hatred, humor and pathos. Now with over 18 million copies in print and translated into forty languages, this regional story by a young Alabama woman claims universal appeal. Harper Lee always considered her book to be a simple love story. Today it is regarded as a masterpiece of American literature.\"\n",
    "\n",
    "str1 = \"something involving  castles\"\n",
    "\n",
    "# Split str1 into individual strings\n",
    "str1_list = [s.strip() for s in str1.split(' ')]\n",
    "\n",
    "# Check if any of the strings in str1_list are present in str2\n",
    "found_strings = [s for s in str1_list if s in str2]\n",
    "\n",
    "# Print result\n",
    "if found_strings:\n",
    "    filtered_list = [s for s in found_strings if len(s) > 1]\n",
    "    print(f\"Found filtered strings: {filtered_list}\")\n",
    "    print(\"Score = 1\")\n",
    "          \n",
    "else:\n",
    "    print(\"No strings found\")"
   ]
  },
  {
   "cell_type": "code",
   "execution_count": 298,
   "id": "3b98fec2-6b4d-4366-91ec-142ddb15a0d4",
   "metadata": {},
   "outputs": [
    {
     "name": "stdout",
     "output_type": "stream",
     "text": [
      "{'Genres': 'Classic , Fiction', 'Author': 'J.K. rowling ', 'Description': 'something involving castles', 'Rating': 'greater than 3.5'}\n"
     ]
    }
   ],
   "source": [
    "print(response_dict_n)"
   ]
  },
  {
   "cell_type": "code",
   "execution_count": 299,
   "id": "bb284852-cc82-4238-b03c-351aaa0da84e",
   "metadata": {},
   "outputs": [],
   "source": [
    "response_dict_n = {'Genres': 'Classic , Fiction', 'Author': 'J.K. rowling ', 'Description': 'something involving castles', 'Rating': 'greater than 4.4'}"
   ]
  },
  {
   "cell_type": "code",
   "execution_count": 300,
   "id": "ebb370ce-3a0b-4f04-be43-3760baba76d2",
   "metadata": {},
   "outputs": [
    {
     "name": "stdout",
     "output_type": "stream",
     "text": [
      "{'Genres': 'Classic , Fiction', 'Author': 'J.K. rowling ', 'Description': 'something involving castles', 'Rating': 'greater than 4.4'}\n"
     ]
    }
   ],
   "source": [
    "print(response_dict_n)"
   ]
  },
  {
   "cell_type": "code",
   "execution_count": 344,
   "id": "ZqKvUdFkcPXF",
   "metadata": {
    "id": "ZqKvUdFkcPXF"
   },
   "outputs": [],
   "source": [
    "import pandas as pd  # Importing the pandas library for data manipulation\n",
    "import json\n",
    "import time\n",
    "def compare_books_with_user(user_req_string):\n",
    "    #It will take the user requirements dictionary as input\n",
    "    user_requirements = response_dict_n\n",
    "    \n",
    "    #Filter the books based on their rating, keeping only the ones within the user's rating perference.\n",
    "    book_df = pd.read_csv('goodreads_updated_data.csv')\n",
    "\n",
    "    # Extracting the rating value from user_requirements and converting it to an float value\n",
    "    numbers = re.findall(r'\\d+\\.\\d+|\\d+', user_requirements.get('Rating', '0'))\n",
    "    rating = [float(num) for num in numbers]\n",
    "   \n",
    "    # Creating a copy of the DataFrame and filtering laptops based on the rating\n",
    "    filtered_books = book_df.copy()\n",
    "    filtered_books['Avg_Rating'] = filtered_books['Avg_Rating'].astype(float)\n",
    "    filtered_books = filtered_books[filtered_books['Avg_Rating'] >= rating[0]].copy()\n",
    "    # filtered_books\n",
    "\n",
    "    ##  Calculate a score for each book based on how well it matches the user's requirements.\n",
    "    \n",
    "    # Creating a new column 'Score' in the filtered DataFrame and initializing it to 0\n",
    "    filtered_books['Score'] = 0\n",
    "    # Start time\n",
    "    start_time = time.time()\n",
    "    # # # Iterating over each book in the filtered DataFrame to calculate scores based on user requirements\n",
    "    for index, row in filtered_books.iterrows():\n",
    "    \n",
    "        book_features = row['book_features']\n",
    "        \n",
    "        book_features_values = dictionary_present(book_features)\n",
    "        score = 0\n",
    "        \n",
    "        # Breaking out of loop after 30 seconds to get results soon \n",
    "        #Check if 30 seconds have elapsed\n",
    "        if time.time() - start_time > 120:\n",
    "            # print(\"30 seconds elapsed. Exiting loop.\")\n",
    "            break\n",
    "#         print(\"book_values\",book_features_values) \n",
    "#         print(\"user_requirements\",user_requirements)\n",
    "\n",
    "    #     # Comparing user requirements with book features and updating scores\n",
    "        for key, user_value in user_requirements.items():\n",
    "            # if key.lower() == 'budget':\n",
    "            \n",
    "            # print(\"key\",key)\n",
    "            # print(\"user_value\",user_value)\n",
    "            # print(type(user_value))\n",
    "            \n",
    "            if key == 'Rating':\n",
    "                continue  # Skipping rating comparison\n",
    "            \n",
    "            if key == 'Genres':\n",
    "                #logic for Genres\n",
    "                # str1 = \"Classic , Fiction\"\n",
    "                # str2 = \"['Classics', 'Fiction', 'Historical Fiction', 'School', 'Literature', 'Young Adult', 'Historical']\"\n",
    "\n",
    "                # Split str1 into individual strings\n",
    "                str1_list = [s.strip() for s in user_value.split(' ')]\n",
    "\n",
    "                # Check if any of the strings in str1_list are present in str2\n",
    "                found_strings = [s for s in str1_list if s in book_features_values.get(key , None)]\n",
    "\n",
    "                # Print result\n",
    "                if found_strings:\n",
    "                    filtered_list = [s for s in found_strings if len(s) > 1]\n",
    "                    # print(f\"Found filtered strings: {filtered_list}\")\n",
    "                    # print(\"Score\" , len(filtered_list))\n",
    "                    score += len(filtered_list)\n",
    "                    \n",
    "            if key == 'Author':\n",
    "                # Normalize the strings\n",
    "                normalized_book_value = normalize_string(book_features_values.get(key , None))\n",
    "                normalized_user_value = normalize_string(user_value)\n",
    "\n",
    "                # Check if the normalized strings are the same\n",
    "                are_strings_same = normalized_book_value == normalized_user_value\n",
    "\n",
    "                if are_strings_same:\n",
    "                    score += 1\n",
    "\n",
    "            if key == 'Description':\n",
    "                # Split str1 into individual strings \n",
    "                str1_list = [s.strip() for s in user_value.split(' ')]\n",
    "\n",
    "                # Check if any of the strings in str1_list are present in str2\n",
    "                found_strings = [s for s in str1_list if s in book_features_values.get(key , None)]\n",
    "\n",
    "                # Print result\n",
    "                if found_strings:\n",
    "                    filtered_list = [s for s in found_strings if len(s) > 1]\n",
    "                    # print(f\"Found filtered strings: {filtered_list}\")\n",
    "                    # print(\"Score\" , len(filtered_list))\n",
    "                    if len(filtered_list) > 0: \n",
    "                        score += 1\n",
    "\n",
    "            \n",
    "            filtered_books.loc[index, 'Score'] = score # Updating the 'Score' column in the DataFrame\n",
    "            # print(\"score\",filtered_books['Score'])\n",
    "         \n",
    "    # Sorting books by score in descending order and selecting the top 3 products\n",
    "    top_books = filtered_books.drop('book_features', axis=1)\n",
    "    top_books = top_books.sort_values('Score', ascending=False).head(3)\n",
    "    \n",
    "    # Converting the top books DataFrame to JSON format\n",
    "    top_books_json = top_books.to_json(orient='records')  \n",
    "\n",
    "    # top_laptops\n",
    "    return top_books_json"
   ]
  },
  {
   "cell_type": "markdown",
   "id": "e1faebdc",
   "metadata": {
    "id": "e1faebdc"
   },
   "source": [
    "Now that you have the `compare_books_with_user()` function ready, let's pass the `response_dict_n` to the function to get top 3 recommendation."
   ]
  },
  {
   "cell_type": "code",
   "execution_count": 327,
   "id": "rsTOq6lrb53Y",
   "metadata": {
    "colab": {
     "base_uri": "https://localhost:8080/",
     "height": 165
    },
    "id": "rsTOq6lrb53Y",
    "outputId": "d2216ca5-b33d-4397-a5ea-8256daed98ab"
   },
   "outputs": [
    {
     "data": {
      "text/plain": [
       "{'Genres': 'Classic , Fiction',\n",
       " 'Author': 'J.K. rowling ',\n",
       " 'Description': 'something involving castles',\n",
       " 'Rating': 'greater than 4.4'}"
      ]
     },
     "metadata": {},
     "output_type": "display_data"
    },
    {
     "data": {
      "text/plain": [
       "'\\n'"
      ]
     },
     "metadata": {},
     "output_type": "display_data"
    },
    {
     "data": {
      "text/plain": [
       "dict"
      ]
     },
     "metadata": {},
     "output_type": "display_data"
    }
   ],
   "source": [
    "display(response_dict_n, '\\n',type(response_dict_n))"
   ]
  },
  {
   "cell_type": "code",
   "execution_count": 328,
   "id": "oJrlVQZo8h7t",
   "metadata": {
    "colab": {
     "base_uri": "https://localhost:8080/"
    },
    "id": "oJrlVQZo8h7t",
    "outputId": "f5f67f59-421b-484c-e307-c03fb2bf38a1"
   },
   "outputs": [
    {
     "data": {
      "text/plain": [
       "{'Genres': ' Classic , Fiction',\n",
       " 'Author': 'J.K. rowling ',\n",
       " 'Description': 'something involving castles',\n",
       " 'Rating': 'greater than 4.4'}"
      ]
     },
     "execution_count": 328,
     "metadata": {},
     "output_type": "execute_result"
    }
   ],
   "source": [
    "dictionary_present(response_dict_n)"
   ]
  },
  {
   "cell_type": "code",
   "execution_count": 329,
   "id": "c4d3ff4a",
   "metadata": {
    "colab": {
     "base_uri": "https://localhost:8080/",
     "height": 221
    },
    "id": "c4d3ff4a",
    "outputId": "528ec6a0-5003-4406-a178-9cbb03c5ad89"
   },
   "outputs": [
    {
     "name": "stdout",
     "output_type": "stream",
     "text": [
      "30 seconds elapsed. Exiting loop.\n"
     ]
    },
    {
     "data": {
      "text/plain": [
       "'[{\"Book\":\"Harry Potter and the Philosopher\\\\u2019s Stone (Harry Potter, #1)\",\"Author\":\"J.K. Rowling\",\"Description\":\"Harry Potter thinks he is an ordinary boy - until he is rescued by an owl, taken to Hogwarts School of Witchcraft and Wizardry, learns to play Quidditch and does battle in a deadly duel. The Reason ... HARRY POTTER IS A WIZARD!\",\"Genres\":\"[\\'Fantasy\\', \\'Fiction\\', \\'Young Adult\\', \\'Magic\\', \\'Childrens\\', \\'Middle Grade\\', \\'Classics\\']\",\"Avg_Rating\":4.47,\"Num_Ratings\":\"9,278,135\",\"URL\":\"https:\\\\/\\\\/www.goodreads.com\\\\/book\\\\/show\\\\/72193.Harry_Potter_and_the_Philosopher_s_Stone\",\"Score\":3},{\"Book\":\"Harry Potter and the Deathly Hallows (Harry Potter, #7)\",\"Author\":\"J.K. Rowling\",\"Description\":\"Harry has been burdened with a dark, dangerous and seemingly impossible task: that of locating and destroying Voldemort\\'s remaining Horcruxes. Never has Harry felt so alone, or faced a future so full of shadows. But Harry must somehow find within himself the strength to complete the task he has been given. He must leave the warmth, safety and companionship of The Burrow and follow without fear or hesitation the inexorable path laid out for him...In this final, seventh installment of the Harry Potter series, J.K. Rowling unveils in spectacular fashion the answers to the many questions that have been so eagerly awaited.\",\"Genres\":\"[\\'Fantasy\\', \\'Young Adult\\', \\'Fiction\\', \\'Magic\\', \\'Childrens\\', \\'Adventure\\', \\'Audiobook\\']\",\"Avg_Rating\":4.62,\"Num_Ratings\":\"3,468,276\",\"URL\":\"https:\\\\/\\\\/www.goodreads.com\\\\/book\\\\/show\\\\/136251.Harry_Potter_and_the_Deathly_Hallows\",\"Score\":2},{\"Book\":\"Harry Potter and the Prisoner of Azkaban (Harry Potter, #3)\",\"Author\":\"J.K. Rowling\",\"Description\":\"Harry Potter, along with his best friends, Ron and Hermione, is about to start his third year at Hogwarts School of Witchcraft and Wizardry. Harry can\\'t wait to get back to school after the summer holidays. (Who wouldn\\'t if they lived with the horrible Dursleys?) But when Harry gets to Hogwarts, the atmosphere is tense. There\\'s an escaped mass murderer on the loose, and the sinister prison guards of Azkaban have been called in to guard the school...\",\"Genres\":\"[\\'Fantasy\\', \\'Fiction\\', \\'Young Adult\\', \\'Magic\\', \\'Childrens\\', \\'Middle Grade\\', \\'Audiobook\\']\",\"Avg_Rating\":4.58,\"Num_Ratings\":\"3,808,160\",\"URL\":\"https:\\\\/\\\\/www.goodreads.com\\\\/book\\\\/show\\\\/5.Harry_Potter_and_the_Prisoner_of_Azkaban\",\"Score\":2}]'"
      ]
     },
     "metadata": {},
     "output_type": "display_data"
    }
   ],
   "source": [
    "top_3_books = compare_books_with_user(response_dict_n)\n",
    "\n",
    "display(top_3_books)"
   ]
  },
  {
   "cell_type": "code",
   "execution_count": 330,
   "id": "xw43wm_gRI7S",
   "metadata": {
    "colab": {
     "base_uri": "https://localhost:8080/"
    },
    "id": "xw43wm_gRI7S",
    "outputId": "13a1e4cf-0e50-4b8a-fe69-3ed29747d8ea"
   },
   "outputs": [
    {
     "data": {
      "text/plain": [
       "[{'Book': 'Harry Potter and the Philosopher’s Stone (Harry Potter, #1)',\n",
       "  'Author': 'J.K. Rowling',\n",
       "  'Description': 'Harry Potter thinks he is an ordinary boy - until he is rescued by an owl, taken to Hogwarts School of Witchcraft and Wizardry, learns to play Quidditch and does battle in a deadly duel. The Reason ... HARRY POTTER IS A WIZARD!',\n",
       "  'Genres': \"['Fantasy', 'Fiction', 'Young Adult', 'Magic', 'Childrens', 'Middle Grade', 'Classics']\",\n",
       "  'Avg_Rating': 4.47,\n",
       "  'Num_Ratings': '9,278,135',\n",
       "  'URL': 'https://www.goodreads.com/book/show/72193.Harry_Potter_and_the_Philosopher_s_Stone',\n",
       "  'Score': 3},\n",
       " {'Book': 'Harry Potter and the Deathly Hallows (Harry Potter, #7)',\n",
       "  'Author': 'J.K. Rowling',\n",
       "  'Description': \"Harry has been burdened with a dark, dangerous and seemingly impossible task: that of locating and destroying Voldemort's remaining Horcruxes. Never has Harry felt so alone, or faced a future so full of shadows. But Harry must somehow find within himself the strength to complete the task he has been given. He must leave the warmth, safety and companionship of The Burrow and follow without fear or hesitation the inexorable path laid out for him...In this final, seventh installment of the Harry Potter series, J.K. Rowling unveils in spectacular fashion the answers to the many questions that have been so eagerly awaited.\",\n",
       "  'Genres': \"['Fantasy', 'Young Adult', 'Fiction', 'Magic', 'Childrens', 'Adventure', 'Audiobook']\",\n",
       "  'Avg_Rating': 4.62,\n",
       "  'Num_Ratings': '3,468,276',\n",
       "  'URL': 'https://www.goodreads.com/book/show/136251.Harry_Potter_and_the_Deathly_Hallows',\n",
       "  'Score': 2},\n",
       " {'Book': 'Harry Potter and the Prisoner of Azkaban (Harry Potter, #3)',\n",
       "  'Author': 'J.K. Rowling',\n",
       "  'Description': \"Harry Potter, along with his best friends, Ron and Hermione, is about to start his third year at Hogwarts School of Witchcraft and Wizardry. Harry can't wait to get back to school after the summer holidays. (Who wouldn't if they lived with the horrible Dursleys?) But when Harry gets to Hogwarts, the atmosphere is tense. There's an escaped mass murderer on the loose, and the sinister prison guards of Azkaban have been called in to guard the school...\",\n",
       "  'Genres': \"['Fantasy', 'Fiction', 'Young Adult', 'Magic', 'Childrens', 'Middle Grade', 'Audiobook']\",\n",
       "  'Avg_Rating': 4.58,\n",
       "  'Num_Ratings': '3,808,160',\n",
       "  'URL': 'https://www.goodreads.com/book/show/5.Harry_Potter_and_the_Prisoner_of_Azkaban',\n",
       "  'Score': 2}]"
      ]
     },
     "execution_count": 330,
     "metadata": {},
     "output_type": "execute_result"
    }
   ],
   "source": [
    "# Get output in JSON Format\n",
    "top_3_books_json = json.loads(top_3_books)\n",
    "# type(top_3_laptops_json)\n",
    "top_3_books_json"
   ]
  },
  {
   "cell_type": "markdown",
   "id": "U23YCuEhv3tH",
   "metadata": {
    "id": "U23YCuEhv3tH"
   },
   "source": [
    "### `product_validation_layer()`:\n",
    "\n",
    "This function verifies that the laptop recommendations are good enough, has score greater than 2, and matches the user's requirements."
   ]
  },
  {
   "cell_type": "code",
   "execution_count": 332,
   "id": "a0d6dd68",
   "metadata": {
    "id": "a0d6dd68"
   },
   "outputs": [],
   "source": [
    "def recommendation_validation(book_recommendation):\n",
    "    data = json.loads(book_recommendation)\n",
    "    data1 = []\n",
    "    for i in range(len(data)):\n",
    "        if data[i]['Score'] >= 2:\n",
    "            data1.append(data[i])\n",
    "\n",
    "    return data1"
   ]
  },
  {
   "cell_type": "code",
   "execution_count": 333,
   "id": "c22c6b76",
   "metadata": {
    "colab": {
     "base_uri": "https://localhost:8080/",
     "height": 1000
    },
    "id": "c22c6b76",
    "outputId": "cbfd4273-804c-4704-dc8b-0e55eaef21e4",
    "scrolled": true
   },
   "outputs": [
    {
     "data": {
      "text/plain": [
       "[{'Book': 'Harry Potter and the Philosopher’s Stone (Harry Potter, #1)',\n",
       "  'Author': 'J.K. Rowling',\n",
       "  'Description': 'Harry Potter thinks he is an ordinary boy - until he is rescued by an owl, taken to Hogwarts School of Witchcraft and Wizardry, learns to play Quidditch and does battle in a deadly duel. The Reason ... HARRY POTTER IS A WIZARD!',\n",
       "  'Genres': \"['Fantasy', 'Fiction', 'Young Adult', 'Magic', 'Childrens', 'Middle Grade', 'Classics']\",\n",
       "  'Avg_Rating': 4.47,\n",
       "  'Num_Ratings': '9,278,135',\n",
       "  'URL': 'https://www.goodreads.com/book/show/72193.Harry_Potter_and_the_Philosopher_s_Stone',\n",
       "  'Score': 3},\n",
       " {'Book': 'Harry Potter and the Deathly Hallows (Harry Potter, #7)',\n",
       "  'Author': 'J.K. Rowling',\n",
       "  'Description': \"Harry has been burdened with a dark, dangerous and seemingly impossible task: that of locating and destroying Voldemort's remaining Horcruxes. Never has Harry felt so alone, or faced a future so full of shadows. But Harry must somehow find within himself the strength to complete the task he has been given. He must leave the warmth, safety and companionship of The Burrow and follow without fear or hesitation the inexorable path laid out for him...In this final, seventh installment of the Harry Potter series, J.K. Rowling unveils in spectacular fashion the answers to the many questions that have been so eagerly awaited.\",\n",
       "  'Genres': \"['Fantasy', 'Young Adult', 'Fiction', 'Magic', 'Childrens', 'Adventure', 'Audiobook']\",\n",
       "  'Avg_Rating': 4.62,\n",
       "  'Num_Ratings': '3,468,276',\n",
       "  'URL': 'https://www.goodreads.com/book/show/136251.Harry_Potter_and_the_Deathly_Hallows',\n",
       "  'Score': 2},\n",
       " {'Book': 'Harry Potter and the Prisoner of Azkaban (Harry Potter, #3)',\n",
       "  'Author': 'J.K. Rowling',\n",
       "  'Description': \"Harry Potter, along with his best friends, Ron and Hermione, is about to start his third year at Hogwarts School of Witchcraft and Wizardry. Harry can't wait to get back to school after the summer holidays. (Who wouldn't if they lived with the horrible Dursleys?) But when Harry gets to Hogwarts, the atmosphere is tense. There's an escaped mass murderer on the loose, and the sinister prison guards of Azkaban have been called in to guard the school...\",\n",
       "  'Genres': \"['Fantasy', 'Fiction', 'Young Adult', 'Magic', 'Childrens', 'Middle Grade', 'Audiobook']\",\n",
       "  'Avg_Rating': 4.58,\n",
       "  'Num_Ratings': '3,808,160',\n",
       "  'URL': 'https://www.goodreads.com/book/show/5.Harry_Potter_and_the_Prisoner_of_Azkaban',\n",
       "  'Score': 2}]"
      ]
     },
     "metadata": {},
     "output_type": "display_data"
    },
    {
     "data": {
      "text/plain": [
       "'\\n'"
      ]
     },
     "metadata": {},
     "output_type": "display_data"
    }
   ],
   "source": [
    "validated_data = recommendation_validation(top_3_books)\n",
    "display(validated_data,'\\n')"
   ]
  },
  {
   "cell_type": "markdown",
   "id": "f1f97d7a",
   "metadata": {
    "id": "f1f97d7a"
   },
   "source": [
    "Now that you the top 3 books extracted, let's pass it to the recommendation layer that'll send it to the user and the user can ask questions around it."
   ]
  },
  {
   "cell_type": "markdown",
   "id": "kRBzXIcrea7Y",
   "metadata": {
    "id": "kRBzXIcrea7Y"
   },
   "source": [
    "## Stage 3"
   ]
  },
  {
   "cell_type": "markdown",
   "id": "xoj6wyWExDDQ",
   "metadata": {
    "id": "xoj6wyWExDDQ"
   },
   "source": [
    "[Stage 3 Flowchart](https://cdn.upgrad.com/uploads/production/4c12bc73-8c12-4095-90f2-3dfca0f277e5/Stage+3.jpg)"
   ]
  },
  {
   "cell_type": "markdown",
   "id": "f0e2eb10",
   "metadata": {
    "id": "f0e2eb10"
   },
   "source": [
    "### 3.4: Product Recommendation Layer\n",
    "\n",
    "Finally, we come to the product recommendation layer. It takes the output from the `compare_books_with_user` function in the previous layer and provides the recommendations to the user. It has the following steps.\n",
    "1. Initialize the conversation for recommendation.\n",
    "2. Generate the recommendations and display in a presentable format.\n",
    "3. Ask questions basis the recommendations.\n",
    "\n"
   ]
  },
  {
   "cell_type": "code",
   "execution_count": 334,
   "id": "6270ac40",
   "metadata": {
    "id": "6270ac40"
   },
   "outputs": [],
   "source": [
    "def initialize_conv_reco(products):\n",
    "    system_message = f\"\"\"\n",
    "    You are an intelligent reccomender and an expert on all kinds of books and you are tasked with the objective to \\\n",
    "    solve the user queries about any product from the catalogue in the user message \\\n",
    "    You should keep the user profile in mind while answering the questions.\\\n",
    "\n",
    "    Start with a brief summary of each book in the following format, in decreasing order of rating of books:\n",
    "    1. <Book Name> : <Author Name> , <Short description of book>, <Genre>, <Rating>\n",
    "    2. <Book Name> : <Author Name>  , <Short description of book>,<Genre>, <Rating>\n",
    "\n",
    "    \"\"\"\n",
    "    user_message = f\"\"\" These are the user's products: {products}\"\"\"\n",
    "    conversation = [{\"role\": \"system\", \"content\": system_message },\n",
    "                    {\"role\":\"user\",\"content\":user_message}]\n",
    "    # conversation_final = conversation[0]['content']\n",
    "    return conversation"
   ]
  },
  {
   "cell_type": "markdown",
   "id": "e0a66294",
   "metadata": {
    "id": "e0a66294"
   },
   "source": [
    "Let's initialize the conversation for recommendation."
   ]
  },
  {
   "cell_type": "code",
   "execution_count": 335,
   "id": "bd95e8c5",
   "metadata": {
    "colab": {
     "base_uri": "https://localhost:8080/"
    },
    "id": "bd95e8c5",
    "outputId": "e5314399-65c0-4772-d683-ce496e410ff8"
   },
   "outputs": [
    {
     "data": {
      "text/plain": [
       "[{'role': 'system',\n",
       "  'content': '\\n    You are an intelligent reccomender and an expert on all kinds of books and you are tasked with the objective to     solve the user queries about any product from the catalogue in the user message     You should keep the user profile in mind while answering the questions.\\n    Start with a brief summary of each book in the following format, in decreasing order of rating of books:\\n    1. <Book Name> : <Author Name> , <Short description of book>, <Genre>, <Rating>\\n    2. <Book Name> : <Author Name>  , <Short description of book>,<Genre>, <Rating>\\n\\n    '},\n",
       " {'role': 'user',\n",
       "  'content': ' These are the user\\'s products: [{\"Book\":\"Harry Potter and the Philosopher\\\\u2019s Stone (Harry Potter, #1)\",\"Author\":\"J.K. Rowling\",\"Description\":\"Harry Potter thinks he is an ordinary boy - until he is rescued by an owl, taken to Hogwarts School of Witchcraft and Wizardry, learns to play Quidditch and does battle in a deadly duel. The Reason ... HARRY POTTER IS A WIZARD!\",\"Genres\":\"[\\'Fantasy\\', \\'Fiction\\', \\'Young Adult\\', \\'Magic\\', \\'Childrens\\', \\'Middle Grade\\', \\'Classics\\']\",\"Avg_Rating\":4.47,\"Num_Ratings\":\"9,278,135\",\"URL\":\"https:\\\\/\\\\/www.goodreads.com\\\\/book\\\\/show\\\\/72193.Harry_Potter_and_the_Philosopher_s_Stone\",\"Score\":3},{\"Book\":\"Harry Potter and the Deathly Hallows (Harry Potter, #7)\",\"Author\":\"J.K. Rowling\",\"Description\":\"Harry has been burdened with a dark, dangerous and seemingly impossible task: that of locating and destroying Voldemort\\'s remaining Horcruxes. Never has Harry felt so alone, or faced a future so full of shadows. But Harry must somehow find within himself the strength to complete the task he has been given. He must leave the warmth, safety and companionship of The Burrow and follow without fear or hesitation the inexorable path laid out for him...In this final, seventh installment of the Harry Potter series, J.K. Rowling unveils in spectacular fashion the answers to the many questions that have been so eagerly awaited.\",\"Genres\":\"[\\'Fantasy\\', \\'Young Adult\\', \\'Fiction\\', \\'Magic\\', \\'Childrens\\', \\'Adventure\\', \\'Audiobook\\']\",\"Avg_Rating\":4.62,\"Num_Ratings\":\"3,468,276\",\"URL\":\"https:\\\\/\\\\/www.goodreads.com\\\\/book\\\\/show\\\\/136251.Harry_Potter_and_the_Deathly_Hallows\",\"Score\":2},{\"Book\":\"Harry Potter and the Prisoner of Azkaban (Harry Potter, #3)\",\"Author\":\"J.K. Rowling\",\"Description\":\"Harry Potter, along with his best friends, Ron and Hermione, is about to start his third year at Hogwarts School of Witchcraft and Wizardry. Harry can\\'t wait to get back to school after the summer holidays. (Who wouldn\\'t if they lived with the horrible Dursleys?) But when Harry gets to Hogwarts, the atmosphere is tense. There\\'s an escaped mass murderer on the loose, and the sinister prison guards of Azkaban have been called in to guard the school...\",\"Genres\":\"[\\'Fantasy\\', \\'Fiction\\', \\'Young Adult\\', \\'Magic\\', \\'Childrens\\', \\'Middle Grade\\', \\'Audiobook\\']\",\"Avg_Rating\":4.58,\"Num_Ratings\":\"3,808,160\",\"URL\":\"https:\\\\/\\\\/www.goodreads.com\\\\/book\\\\/show\\\\/5.Harry_Potter_and_the_Prisoner_of_Azkaban\",\"Score\":2}]'}]"
      ]
     },
     "execution_count": 335,
     "metadata": {},
     "output_type": "execute_result"
    }
   ],
   "source": [
    "debug_conversation_reco = initialize_conv_reco(top_3_books)\n",
    "debug_conversation_reco"
   ]
  },
  {
   "cell_type": "markdown",
   "id": "3789430c",
   "metadata": {
    "id": "3789430c"
   },
   "source": [
    "Let's see what the assistant responds with the new initialization."
   ]
  },
  {
   "cell_type": "code",
   "execution_count": 336,
   "id": "03d11a08",
   "metadata": {
    "colab": {
     "base_uri": "https://localhost:8080/"
    },
    "id": "03d11a08",
    "outputId": "a538206f-3ecd-4ad4-ee50-a8d6d590db44"
   },
   "outputs": [
    {
     "name": "stdout",
     "output_type": "stream",
     "text": [
      "1. Harry Potter and the Deathly Hallows (Harry Potter, #7) : J.K. Rowling  , Harry has been burdened with a dark, dangerous and seemingly impossible task: that of locating and destroying Voldemort's remaining Horcruxes. Never has Harry felt so alone, or faced a future so full of shadows. But Harry must somehow find within himself the strength to complete the task he has been given. He must leave the warmth, safety and companionship of The \n",
      "Burrow and follow without fear or hesitation the inexorable path laid out for him...In this final, seventh installment of the Harry Potter series, J.K. Rowling unveils in spectacular fashion the answers to the many questions that have been so eagerly awaited., Fantasy, 4.62\n",
      "2. Harry Potter and the Prisoner of Azkaban (Harry Potter, #3) : J.K. Rowling  , Harry Potter, along with his best friends, Ron and Hermione, is about to start his third year at Hogwarts School of Witchcraft and Wizardry. Harry can't wait to get back to school after the summer holidays. (Who wouldn't if they lived with the horrible Dursleys?) But when Harry gets to Hogwarts, the atmosphere is tense. There's an escaped mass murderer on the loose, and the sinister prison guards of Azkaban have been called in to guard the school..., Fantasy, 4.58\n",
      "\n"
     ]
    }
   ],
   "source": [
    "debug_recommendation = get_chat_completions(debug_conversation_reco)\n",
    "print(debug_recommendation + '\\n')"
   ]
  },
  {
   "cell_type": "markdown",
   "id": "4ad208c0",
   "metadata": {
    "id": "4ad208c0"
   },
   "source": [
    "Now, you can converse with the chatbot on the filtered products."
   ]
  },
  {
   "cell_type": "code",
   "execution_count": 337,
   "id": "OGm3c-mqTYoN",
   "metadata": {
    "colab": {
     "base_uri": "https://localhost:8080/"
    },
    "id": "OGm3c-mqTYoN",
    "outputId": "d8570a09-d36a-4e62-ead2-242720405fb2"
   },
   "outputs": [
    {
     "data": {
      "text/plain": [
       "{'Genres': 'Classic , Fiction',\n",
       " 'Author': 'J.K. rowling ',\n",
       " 'Description': 'something involving castles',\n",
       " 'Rating': 'greater than 4.4'}"
      ]
     },
     "execution_count": 337,
     "metadata": {},
     "output_type": "execute_result"
    }
   ],
   "source": [
    "response_dict_n"
   ]
  },
  {
   "cell_type": "code",
   "execution_count": 338,
   "id": "ad228dc6",
   "metadata": {
    "id": "ad228dc6"
   },
   "outputs": [],
   "source": [
    "debug_conversation_reco.append({\"role\": \"user\", \"content\": \"This is my user book preference profile\" + str(response_dict_n)})\n",
    "debug_conversation_reco.append({\"role\": \"assistant\", \"content\": debug_recommendation})"
   ]
  },
  {
   "cell_type": "code",
   "execution_count": 339,
   "id": "d8735368",
   "metadata": {
    "id": "d8735368"
   },
   "outputs": [],
   "source": [
    "debug_user_input = \"Which one is ideal for kids to start with?\""
   ]
  },
  {
   "cell_type": "code",
   "execution_count": 340,
   "id": "8885e9fc",
   "metadata": {
    "colab": {
     "base_uri": "https://localhost:8080/",
     "height": 91
    },
    "id": "8885e9fc",
    "outputId": "ce53a9ec-a4c9-44ca-cb82-deb521614158"
   },
   "outputs": [
    {
     "data": {
      "text/plain": [
       "'\\nFor kids who are starting to read the Harry Potter series, it is ideal to begin with \"Harry Potter and the Philosopher’s Stone (Harry Potter, #1)\" by J.K. Rowling. This book introduces readers to the magical world of Hogwarts School of Witchcraft and Wizardry, and sets the foundation for the adventures that follow in the rest of the series. It is a great starting point for young readers to dive into the world of Harry Potter and his friends.\\n'"
      ]
     },
     "metadata": {},
     "output_type": "display_data"
    }
   ],
   "source": [
    "debug_conversation_reco.append({\"role\": \"user\", \"content\": debug_user_input})\n",
    "debug_response_asst_reco = get_chat_completions(debug_conversation_reco)\n",
    "display('\\n' + debug_response_asst_reco + '\\n')"
   ]
  },
  {
   "cell_type": "markdown",
   "id": "39df2113",
   "metadata": {
    "id": "39df2113"
   },
   "source": [
    "You can repeat the process of appending the assistant and user messages and test the chatbot out."
   ]
  },
  {
   "cell_type": "markdown",
   "id": "Djt_gMeaeo-F",
   "metadata": {
    "id": "Djt_gMeaeo-F"
   },
   "source": [
    "## Combining all the 3 stages\n",
    "\n",
    "In this layer, we combine all the three stages that we defined above.\n",
    "\n",
    "`Stage 1` + `Stage 2` + `Stage 3`"
   ]
  },
  {
   "cell_type": "markdown",
   "id": "8156fc35",
   "metadata": {
    "id": "8156fc35"
   },
   "source": [
    "### 3.5 Dialogue Management System\n",
    "\n",
    "Bringing everything together, we create a `diagloue_mgmt_system()` function that contains the logic of how the different layers would interact with each other. This will be the function that we'll call to initiate the chatbot"
   ]
  },
  {
   "cell_type": "code",
   "execution_count": 342,
   "id": "K4oHQZqsUmre",
   "metadata": {
    "id": "K4oHQZqsUmre"
   },
   "outputs": [],
   "source": [
    "def dialogue_mgmt_system():\n",
    "    conversation = initialize_conversation()\n",
    "\n",
    "    introduction = get_chat_completions(conversation)\n",
    "\n",
    "    display(introduction + '\\n')\n",
    "\n",
    "    top_3_books = None\n",
    "\n",
    "    user_input = ''\n",
    "\n",
    "    while(user_input != \"exit\"):\n",
    "\n",
    "        user_input = input(\"\")\n",
    "\n",
    "        moderation = moderation_check(user_input)\n",
    "        if moderation == 'Flagged':\n",
    "            display(\"Sorry, this message has been flagged. Please restart your conversation.\")\n",
    "            break\n",
    "\n",
    "        if top_3_books is None:\n",
    "\n",
    "            conversation.append({\"role\": \"user\", \"content\": user_input})\n",
    "\n",
    "            response_assistant = get_chat_completions(conversation)\n",
    "            moderation = moderation_check(response_assistant)\n",
    "            if moderation == 'Flagged':\n",
    "                display(\"Sorry, this message has been flagged. Please restart your conversation.\")\n",
    "                break\n",
    "\n",
    "\n",
    "            confirmation = intent_confirmation_layer(response_assistant)\n",
    "\n",
    "            print(\"Intent Confirmation Yes/No:\",confirmation.get('result'))\n",
    "\n",
    "            if \"No\" in confirmation.get('result'):\n",
    "                conversation.append({\"role\": \"assistant\", \"content\": str(response_assistant)})\n",
    "                print(\"\\n\" + str(response_assistant) + \"\\n\")\n",
    "\n",
    "            else:\n",
    "                print(\"\\n\" + str(response_assistant) + \"\\n\")\n",
    "                print('\\n' + \"Variables extracted!\" + '\\n')\n",
    "\n",
    "                response = dictionary_present(response_assistant)\n",
    "\n",
    "                print(\"Thank you for providing all the information. Kindly wait, while I fetch the products: \\n\")\n",
    "                top_3_books = compare_books_with_user(response)\n",
    "\n",
    "                print(\"top 3 laptops are\", top_3_books)\n",
    "\n",
    "                validated_reco = recommendation_validation(top_3_books)\n",
    "\n",
    "                conversation_reco = initialize_conv_reco(validated_reco)\n",
    "\n",
    "                conversation_reco.append({\"role\": \"user\", \"content\": \"This is my user profile\" + str(response)})\n",
    "\n",
    "                recommendation = get_chat_completions(conversation_reco)\n",
    "\n",
    "                moderation = moderation_check(recommendation)\n",
    "                if moderation == 'Flagged':\n",
    "                    display(\"Sorry, this message has been flagged. Please restart your conversation.\")\n",
    "                    break\n",
    "\n",
    "                conversation_reco.append({\"role\": \"assistant\", \"content\": str(recommendation)})\n",
    "\n",
    "                print(str(recommendation) + '\\n')\n",
    "        else:\n",
    "            conversation_reco.append({\"role\": \"user\", \"content\": user_input})\n",
    "\n",
    "            response_asst_reco = get_chat_completions(conversation_reco)\n",
    "\n",
    "            moderation = moderation_check(response_asst_reco)\n",
    "            if moderation == 'Flagged':\n",
    "                print(\"Sorry, this message has been flagged. Please restart your conversation.\")\n",
    "                break\n",
    "\n",
    "            print('\\n' + response_asst_reco + '\\n')\n",
    "            conversation.append({\"role\": \"assistant\", \"content\": response_asst_reco})"
   ]
  },
  {
   "cell_type": "code",
   "execution_count": 346,
   "id": "KI9EWNc16xxe",
   "metadata": {
    "colab": {
     "base_uri": "https://localhost:8080/",
     "height": 942
    },
    "id": "KI9EWNc16xxe",
    "outputId": "44e80d0d-4806-4707-fa68-9c41914bafc8"
   },
   "outputs": [
    {
     "data": {
      "text/plain": [
       "\"Hello! It's great to have you here. Please share your book preferences or any specific requirements you have so that I can recommend the perfect book for you.\\n\""
      ]
     },
     "metadata": {},
     "output_type": "display_data"
    },
    {
     "name": "stdin",
     "output_type": "stream",
     "text": [
      " I prefer fictional crime mysteries\n"
     ]
    },
    {
     "name": "stdout",
     "output_type": "stream",
     "text": [
      "Intent Confirmation Yes/No: No\n",
      "\n",
      "Great choice! Fictional crime mysteries are known for their thrilling plots and intriguing characters. To help you discover your next favorite book in this genre, could you please share if you have any preferred authors or specific themes within fictional crime mysteries? Understanding your preferences will ensure that my recommendations are tailored to your taste.\n",
      "\n"
     ]
    },
    {
     "name": "stdin",
     "output_type": "stream",
     "text": [
      " Agatha Christie is one of my favourites\n"
     ]
    },
    {
     "name": "stdout",
     "output_type": "stream",
     "text": [
      "Intent Confirmation Yes/No: No\n",
      "\n",
      "That's fantastic! Agatha Christie is a legendary author known for her captivating crime mysteries. To further tailor my recommendations, could you please describe the kind of fictional crime mysteries you enjoy? Whether you prefer intricate plots, detective-driven stories, or a specific setting? Understanding your preferences will help me suggest books that align with your taste.\n",
      "\n"
     ]
    },
    {
     "name": "stdin",
     "output_type": "stream",
     "text": [
      " detective-driven stories it is\n"
     ]
    },
    {
     "name": "stdout",
     "output_type": "stream",
     "text": [
      "Intent Confirmation Yes/No: No\n",
      "\n",
      "Thank you for sharing that preference! Detective-driven stories are filled with suspense and intrigue, focusing on the investigative journey of the protagonist. Based on your love for detective-driven stories and Agatha Christie's works, I will recommend books that offer thrilling mysteries with a strong emphasis on solving crimes. \n",
      "Could you please specify the rating range you are looking for in the recommended books? This information will help me tailor my recommendations to meet your expectations.\n",
      "\n"
     ]
    },
    {
     "name": "stdin",
     "output_type": "stream",
     "text": [
      " more than 4\n"
     ]
    },
    {
     "name": "stdout",
     "output_type": "stream",
     "text": [
      "Intent Confirmation Yes/No: Yes\n",
      "\n",
      "{'Genres': ['Fictional Crime Mysteries'], 'Author': 'Agatha Christie', 'Description': 'Engaging detective-driven stories with suspenseful plots and intriguing characters', 'Rating': 'more than 4'}\n",
      "\n",
      "\n",
      "Variables extracted!\n",
      "\n",
      "Thank you for providing all the information. Kindly wait, while I fetch the products: \n",
      "\n",
      "top 3 laptops are [{\"Book\":\"Harry Potter and the Philosopher\\u2019s Stone (Harry Potter, #1)\",\"Author\":\"J.K. Rowling\",\"Description\":\"Harry Potter thinks he is an ordinary boy - until he is rescued by an owl, taken to Hogwarts School of Witchcraft and Wizardry, learns to play Quidditch and does battle in a deadly duel. The Reason ... HARRY POTTER IS A WIZARD!\",\"Genres\":\"['Fantasy', 'Fiction', 'Young Adult', 'Magic', 'Childrens', 'Middle Grade', 'Classics']\",\"Avg_Rating\":4.47,\"Num_Ratings\":\"9,278,135\",\"URL\":\"https:\\/\\/www.goodreads.com\\/book\\/show\\/72193.Harry_Potter_and_the_Philosopher_s_Stone\",\"Score\":3},{\"Book\":\"The Complete Sherlock Holmes\",\"Author\":\"Arthur Conan Doyle\",\"Description\":\"A study in scarlet --The sign of four --Adventures of Sherlock Holmes : A scandal in Bohemia ; The red-headed league ; A case of identity ; The Boscombe Valley mystery ; The five orange pips ; The man with the twisted lip ; The adventure of the blue carbuncle ; The adventure of the speckled band ; The adventure of the engineer's thumb ; The adventure of the noble bachelor ; The adventure of the beryl coronet ; The adventure of the copper beeches --Memoirs of Sherlock Holmes : Silver blaze ; The yellow face ; The stock-broker's clerk ; The \\\"Gloria Scott\\\" ; The Musgrave ritual ; The Reigate puzzle ; The crooked man ; The resident patient ; The Greek interpreter ; The naval treaty ; The final problem --The return of Sherlock Holmes : The adventure of the empty house ; The adventure of the Norwood builder ; The adventure of the dancing men ; The adventure of the solitary cyclist ; The adventure of the priory school ; The adventure of Black Peter ; The adventure of Charles Augustus Milverton ; The adventure of the six Napoleons ; The adventure of the three students ; The adventure of the golden pince-nez ; The adventure of the missing three-quarter ; The adventure of the abbey grange ; The adventure of the second stain. Volume 2. Introduction \\/ by Loren D. Estleman --The hound of the Baskervilles --The valley of fear --His last bow : The adventure of Wisteria Lodge : The singular experience of Mr. John Scott Eccles ; The tiger of San Pedro ; The adventure of the cardboard box ; The adventure of the red circle ; The adventure of the Bruce-Partington plans ; The adventure of the dying detective ; The disappearance of Lady Frances Carfax ; The adventure of the devil's foot ; His last bow --The case-book of Sherlock Holmes : The adventure of the illustrious client ; The adventure of the blanched soldier ; The adventure of the Mazarin stone ; The adventure of the three gables ; The adventure of the Sussex vampire ; The adventure of the three Garridebs ; The problem of Thor Bridge ; The adventure of the creeping man ; The adventure of the lion's mane ; The adventure of the veiled lodger ; The adventure of Shoscombe old place ; The adventure of the retired colourman.\",\"Genres\":\"['Classics', 'Mystery', 'Fiction', 'Crime', 'Short Stories', 'Detective', 'Literature']\",\"Avg_Rating\":4.5,\"Num_Ratings\":\"193,917\",\"URL\":\"https:\\/\\/www.goodreads.com\\/book\\/show\\/188572.The_Complete_Sherlock_Holmes\",\"Score\":2},{\"Book\":\"The Two Towers (The Lord of the Rings, #2)\",\"Author\":\"J.R.R. Tolkien\",\"Description\":\"Begin your journey into Middle-earth.The inspiration for the upcoming original series on Prime Video, The Lord of the Rings: The Rings of Power.The Two Towers is the second part of J.R.R. Tolkien\\u2019s epic adventure The Lord of the Rings.One Ring to rule them all, One Ring to find them, One Ring to bring them all and in the darkness bind them.Frodo and his Companions of the Ring have been beset by danger during their quest to prevent the Ruling Ring from falling into the hands of the Dark Lord by destroying it in the Cracks of Doom. They have lost the wizard, Gandalf, in a battle in the Mines of Moria. And Boromir, seduced by the power of the Ring, tried to seize it by force. While Frodo and Sam made their escape, the rest of the company was attacked by Orcs. Now they continue the journey alone down the great River Anduin\\u2014alone, that is, save for the mysterious creeping figure that follows wherever they go.\",\"Genres\":\"['Fantasy', 'Fiction', 'Classics', 'Adventure', 'High Fantasy', 'Science Fiction Fantasy', 'Epic Fantasy']\",\"Avg_Rating\":4.47,\"Num_Ratings\":\"890,506\",\"URL\":\"https:\\/\\/www.goodreads.com\\/book\\/show\\/61215372-the-two-towers\",\"Score\":2}]\n",
      "1. The Complete Sherlock Holmes : Arthur Conan Doyle, A classic collection of detective stories featuring the legendary Sherlock Holmes, filled with suspenseful plots and intriguing characters, Classics, Mystery, Fiction, Crime, Short Stories, Detective, Literature, 4.5\n",
      "\n",
      "2. The Two Towers (The Lord of the Rings, #2) : J.R.R. Tolkien, The second part of the epic adventure of The Lord of the Rings, featuring suspenseful plots and intriguing characters set in a fantasy world, Fantasy, Fiction, Classics, Adventure, High Fantasy, Science Fiction Fantasy, Epic Fantasy, 4.47\n",
      "\n"
     ]
    },
    {
     "name": "stdin",
     "output_type": "stream",
     "text": [
      " which is better for experienced reader?\n"
     ]
    },
    {
     "name": "stdout",
     "output_type": "stream",
     "text": [
      "\n",
      "For an experienced reader who enjoys fictional crime mysteries, \"The Complete Sherlock Holmes\" by Arthur Conan Doyle would be a better choice. This classic collection of detective stories featuring Sherlock Holmes offers intricate plots, well-developed characters, and engaging mysteries that are sure to captivate an experienced reader with a preference for the genre.\n",
      "\n"
     ]
    },
    {
     "name": "stdin",
     "output_type": "stream",
     "text": [
      " exit\n"
     ]
    },
    {
     "name": "stdout",
     "output_type": "stream",
     "text": [
      "\n",
      "If you have any more questions in the future, feel free to ask. Have a great day!\n",
      "\n"
     ]
    }
   ],
   "source": [
    "dialogue_mgmt_system()"
   ]
  },
  {
   "cell_type": "markdown",
   "id": "8c227cad",
   "metadata": {
    "id": "8c227cad"
   },
   "source": [
    "### Challenges faced and Future Possible Improvement "
   ]
  },
  {
   "cell_type": "markdown",
   "id": "PMZR1DoF-2Cm",
   "metadata": {
    "id": "PMZR1DoF-2Cm"
   },
   "source": [
    "- In book mapping step extracting and storing features from 10k records from dataset was time consuming.\n",
    "- Similarly in book extraction step matching user interest with each book feature was time comsuming\n",
    "- These two steps consume lot of time and affect user interractions and overall experience. I have tried to solve this by using time out but there might be more elegant solutions out there"
   ]
  },
  {
   "cell_type": "code",
   "execution_count": null,
   "id": "c3b80c97-1aa2-46ed-89eb-e636d6882be0",
   "metadata": {},
   "outputs": [],
   "source": []
  }
 ],
 "metadata": {
  "colab": {
   "provenance": [],
   "toc_visible": true
  },
  "kernelspec": {
   "display_name": "Python 3 (ipykernel)",
   "language": "python",
   "name": "python3"
  },
  "language_info": {
   "codemirror_mode": {
    "name": "ipython",
    "version": 3
   },
   "file_extension": ".py",
   "mimetype": "text/x-python",
   "name": "python",
   "nbconvert_exporter": "python",
   "pygments_lexer": "ipython3",
   "version": "3.10.9"
  }
 },
 "nbformat": 4,
 "nbformat_minor": 5
}
